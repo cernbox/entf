{
 "cells": [
  {
   "cell_type": "markdown",
   "metadata": {},
   "source": [
    "# T Student\n",
    "<hr style=\"border-top-width: 4px; border-top-color: #34609b;\">\n",
    "Example macro describing the student t distribution\n",
    "\n",
    "```cpp\n",
    "root[0]: .x tStudent.C\n",
    "```\n",
    "\n",
    "It draws the pdf, the cdf and then 10 quantiles of the t Student distribution\n",
    "\n",
    "\n",
    "\n",
    "\n",
    "**Author:** Magdalena Slawinska  \n",
    "<i><small>This notebook tutorial was automatically generated with <a href= \"https://github.com/root-mirror/root/blob/master/documentation/doxygen/converttonotebook.py\">ROOTBOOK-izer (Beta)</a> from the macro found in the ROOT repository  on Thursday, January 19, 2017 at 04:37 PM.</small></i>"
   ]
  },
  {
   "cell_type": "code",
   "execution_count": 1,
   "metadata": {
    "collapsed": false
   },
   "outputs": [],
   "source": [
    "%%cpp -d\n",
    "#include \"TH1.h\"\n",
    "#include \"TF1.h\"\n",
    "#include \"TCanvas.h\"\n",
    "#include \"TSystem.h\"\n",
    "#include \"TLegend.h\"\n",
    "#include \"TLegendEntry.h\"\n",
    "#include \"Math/DistFunc.h\""
   ]
  },
  {
   "cell_type": "code",
   "execution_count": 2,
   "metadata": {
    "collapsed": false
   },
   "outputs": [],
   "source": [
    "/* gSystem->Load(\"libMathMore\");*/"
   ]
  },
  {
   "cell_type": "markdown",
   "metadata": {},
   "source": [
    "This is the way to force load of mathmore in cling"
   ]
  },
  {
   "cell_type": "code",
   "execution_count": 3,
   "metadata": {
    "collapsed": false
   },
   "outputs": [
    {
     "name": "stderr",
     "output_type": "stream",
     "text": [
      "Info in <ROOT::Math::MathMoreLibrary>: libMathMore has been loaded.\n"
     ]
    }
   ],
   "source": [
    "ROOT::Math::MathMoreLibrary::Load();\n",
    "\n",
    "int n=100;\n",
    "double a=-5.;\n",
    "double b=5.;"
   ]
  },
  {
   "cell_type": "markdown",
   "metadata": {},
   "source": [
    "Double r  = 3;"
   ]
  },
  {
   "cell_type": "code",
   "execution_count": 4,
   "metadata": {
    "collapsed": false
   },
   "outputs": [],
   "source": [
    "TF1* pdf = new TF1(\"pdf\", \"ROOT::Math::tdistribution_pdf(x,3.0)\", a,b);\n",
    "TF1* cum = new TF1(\"cum\", \"ROOT::Math::tdistribution_cdf(x,3.0)\", a,b);\n",
    "\n",
    "TH1D* quant = new TH1D(\"quant\", \"\", 9, 0, 0.9);\n",
    "\n",
    "for(int i=1; i < 10; i++)\n",
    "   quant->Fill((i-0.5)/10.0, ROOT::Math::tdistribution_quantile((1.0*i)/10, 3.0 ) );\n",
    "\n",
    "double xx[10];\n",
    "xx[0] = -1.5;\n",
    "for(int i=1; i<9; i++)\n",
    "   xx[i]= quant->GetBinContent(i);\n",
    "xx[9] = 1.5;\n",
    "TH1D* pdfq[10];"
   ]
  },
  {
   "cell_type": "markdown",
   "metadata": {},
   "source": [
    "Int nbin = n/10.0;"
   ]
  },
  {
   "cell_type": "code",
   "execution_count": 5,
   "metadata": {
    "collapsed": false
   },
   "outputs": [
    {
     "name": "stderr",
     "output_type": "stream",
     "text": [
      "Warning in <TH1::TH1>: nbins is <=0 - set to nbins = 1\n"
     ]
    }
   ],
   "source": [
    "for(int i=0; i < 9; i++) {\n",
    "   int nbin = n * (xx[i+1]-xx[i])/3.0 + 1.0;\n",
    "   TString name = \"pdf\";\n",
    "   name += i;\n",
    "   pdfq[i]= new TH1D(name, \"\", nbin,xx[i],xx[i+1] );\n",
    "   for(int j=1; j<nbin; j++) {\n",
    "      double x= j*(xx[i+1]-xx[i])/nbin + xx[i];\n",
    "      pdfq[i]->SetBinContent(j, ROOT::Math::tdistribution_pdf(x,3));\n",
    "   }\n",
    "}\n",
    "\n",
    "TCanvas *Canvas = new TCanvas(\"DistCanvas\", \"Student Distribution graphs\", 10, 10, 800, 700);\n",
    "pdf->SetTitle(\"Student t distribution function\");\n",
    "cum->SetTitle(\"Cumulative for Student t\");\n",
    "quant->SetTitle(\"10-quantiles  for Student t\");\n",
    "Canvas->Divide(2, 2);\n",
    "Canvas->cd(1);\n",
    "pdf->SetLineWidth(2);\n",
    "pdf->DrawCopy();\n",
    "Canvas->cd(2);\n",
    "cum->SetLineWidth(2);\n",
    "cum->SetLineColor(kRed);\n",
    "cum->Draw();\n",
    "Canvas->cd(3);\n",
    "quant->Draw();\n",
    "quant->SetLineWidth(2);\n",
    "quant->SetLineColor(kBlue);\n",
    "quant->SetStats(0);\n",
    "Canvas->cd(4);\n",
    "pdfq[0]->SetTitle(\"Student t & its quantiles\");\n",
    "pdf->SetTitle(\"\");\n",
    "pdf->Draw();"
   ]
  },
  {
   "cell_type": "markdown",
   "metadata": {},
   "source": [
    "Pdfq[0]->setaxisrange(-1.5, 0, 1.5,1.0);"
   ]
  },
  {
   "cell_type": "code",
   "execution_count": 6,
   "metadata": {
    "collapsed": false
   },
   "outputs": [],
   "source": [
    "pdfq[0]->SetTitle(\"Student t & its quantiles\");\n",
    "for(int i=0; i < 9; i++) {\n",
    "   pdfq[i]->SetStats(0);\n",
    "   pdfq[i]->SetFillColor(i+1);\n",
    "   pdfq[i]->Draw(\"same\");\n",
    "}\n",
    "Canvas->Modified();\n",
    "Canvas->cd();"
   ]
  },
  {
   "cell_type": "markdown",
   "metadata": {},
   "source": [
    "Draw all canvases "
   ]
  },
  {
   "cell_type": "code",
   "execution_count": 7,
   "metadata": {
    "collapsed": false
   },
   "outputs": [
    {
     "data": {
      "image/png": "[encoded data removed]",
      "text/plain": [
       "<IPython.core.display.Image object>"
      ]
     },
     "metadata": {},
     "output_type": "display_data"
    }
   ],
   "source": [
    "gROOT->GetListOfCanvases()->Draw()"
   ]
  }
 ],
 "metadata": {
  "kernelspec": {
   "display_name": "ROOT C++",
   "language": "c++",
   "name": "root"
  },
  "language_info": {
   "codemirror_mode": "text/x-c++src",
   "file_extension": ".C",
   "mimetype": " text/x-c++src",
   "name": "c++"
  }
 },
 "nbformat": 4,
 "nbformat_minor": 0
}
