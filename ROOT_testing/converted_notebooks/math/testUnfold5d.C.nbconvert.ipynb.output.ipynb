{
 "cells": [
  {
   "cell_type": "markdown",
   "metadata": {},
   "source": [
    "# Test Unfold 5D\n",
    "<hr style=\"border-top-width: 4px; border-top-color: #34609b;\">\n",
    "Version 17.0 example for multi-dimensional unfolding\n",
    "\n",
    "\n",
    "\n",
    "\n",
    "**Author:** Stefan Schmitt, DESY  \n",
    "<i><small>This notebook tutorial was automatically generated with <a href= \"https://github.com/root-mirror/root/blob/master/documentation/doxygen/converttonotebook.py\">ROOTBOOK-izer (Beta)</a> from the macro found in the ROOT repository  on Thursday, January 19, 2017 at 04:37 PM.</small></i>"
   ]
  },
  {
   "cell_type": "code",
   "execution_count": 1,
   "metadata": {
    "collapsed": false
   },
   "outputs": [],
   "source": [
    "%%cpp -d\n",
    "#include <iostream>\n",
    "#include <cmath>\n",
    "#include <map>\n",
    "#include <TMath.h>\n",
    "#include <TCanvas.h>\n",
    "#include <TStyle.h>\n",
    "#include <TGraph.h>\n",
    "#include <TFile.h>\n",
    "#include <TH1.h>\n",
    "#include \"TUnfoldDensity.h\"\n",
    "\n",
    "using namespace std;"
   ]
  },
  {
   "cell_type": "markdown",
   "metadata": {},
   "source": [
    " #define PRINT_MATRIX_L"
   ]
  },
  {
   "cell_type": "code",
   "execution_count": 2,
   "metadata": {
    "collapsed": false
   },
   "outputs": [
    {
     "name": "stderr",
     "output_type": "stream",
     "text": [
      "Info in <TUnfold::SetConstraint>: fConstraint=1\n",
      "Info in <TUnfold::TUnfold>: underflow and overflow bin do not depend on the input data\n",
      "Info in <TUnfold::TUnfold>: 360 input bins and 115 output bins\n",
      "Info in <TUnfoldDensity::TUnfold>: *NOT* unfolding bin #0\n",
      "Info in <TUnfoldDensity::TUnfold>: *NOT* unfolding bin #116\n",
      "Info in <TUnfoldDensity::RegularizeOneDistribution>: regularizing generator regMode=3 densityMode=1 axisSteering=*[B]\n",
      "Info in <TUnfoldDensity::RegularizeOneDistribution>: regularizing signal regMode=3 densityMode=1 axisSteering=*[B]\n",
      "Info in <TUnfoldDensity::RegularizeOneDistribution>: regularizing background regMode=3 densityMode=1 axisSteering=*[B]\n"
     ]
    },
    {
     "name": "stderr",
     "output_type": "stream",
     "text": [
      "Warning in <TUnfoldDensity::SetInput>: 31/360 input bins have zero error, and are ignored.\n",
      "Info in <TUnfoldDensity::ScanTau>: logtau=-Infinity y=0.280098 X=2.437281 Y=9.205670\n"
     ]
    },
    {
     "name": "stderr",
     "output_type": "stream",
     "text": [
      "Info in <TUnfoldDensity::ScanTau>: logtau=-3.351901 y=0.431045 X=2.534001 Y=8.594646\n"
     ]
    },
    {
     "name": "stderr",
     "output_type": "stream",
     "text": [
      "Info in <TUnfoldDensity::ScanTay>: logtau=-3.851901 y=0.240404 X=2.442627 Y=9.088861\n"
     ]
    },
    {
     "name": "stderr",
     "output_type": "stream",
     "text": [
      "Info in <TUnfoldDensity::ScanTay>: logtau=-4.351901 y=0.275174 X=2.437357 Y=9.192271\n"
     ]
    },
    {
     "name": "stderr",
     "output_type": "stream",
     "text": [
      "Info in <TUnfoldDensity::ScanTay>: logtau=-4.851901 y=0.279594 X=2.437282 Y=9.204309\n"
     ]
    },
    {
     "name": "stderr",
     "output_type": "stream",
     "text": [
      "Info in <TUnfoldDensity::ScanTau>: logtau=-4.601901 y=0.278513 X=2.437289 Y=9.201383\n",
      "Info in <TUnfoldDensity::ScanTau>: logtau=-4.101901 y=0.265364 X=2.437973 Y=9.164789\n"
     ]
    },
    {
     "name": "stderr",
     "output_type": "stream",
     "text": [
      "Info in <TUnfoldDensity::ScanTau>: logtau=-3.601901 y=0.224804 X=2.466248 Y=8.914801\n"
     ]
    },
    {
     "name": "stderr",
     "output_type": "stream",
     "text": [
      "Info in <TUnfoldDensity::ScanTau>: logtau=-4.726901 y=0.279203 X=2.437284 Y=9.203253\n"
     ]
    },
    {
     "name": "stderr",
     "output_type": "stream",
     "text": [
      "Info in <TUnfoldDensity::ScanTau>: logtau=-4.476901 y=0.277297 X=2.437306 Y=9.198078\n"
     ]
    },
    {
     "name": "stderr",
     "output_type": "stream",
     "text": [
      "Info in <TUnfoldDensity::ScanTau>: logtau=-4.226901 y=0.271517 X=2.437513 Y=9.182153\n",
      "Info in <TUnfoldDensity::ScanTau>: logtau=-3.976901 y=0.255424 X=2.439265 Y=9.135715\n"
     ]
    },
    {
     "name": "stderr",
     "output_type": "stream",
     "text": [
      "Info in <TUnfoldDensity::ScanTau>: logtau=-3.726901 y=0.229158 X=2.450452 Y=9.017314\n"
     ]
    },
    {
     "name": "stderr",
     "output_type": "stream",
     "text": [
      "Info in <TUnfoldDensity::ScanTau>: logtau=-3.476901 y=0.316234 X=2.493530 Y=8.776066\n"
     ]
    },
    {
     "name": "stderr",
     "output_type": "stream",
     "text": [
      "Info in <TUnfoldDensity::ScanTau>: logtau=-4.789401 y=0.279426 X=2.437283 Y=9.203856\n",
      "Info in <TUnfoldDensity::ScanTau>: logtau=-4.664401 y=0.278907 X=2.437286 Y=9.202450\n"
     ]
    },
    {
     "name": "stderr",
     "output_type": "stream",
     "text": [
      "Info in <TUnfoldDensity::ScanTau>: logtau=-4.539401 y=0.277990 X=2.437295 Y=9.199963\n"
     ]
    },
    {
     "name": "stderr",
     "output_type": "stream",
     "text": [
      "Info in <TUnfoldDensity::ScanTau>: logtau=-4.414401 y=0.276381 X=2.437324 Y=9.195579\n"
     ]
    },
    {
     "name": "stderr",
     "output_type": "stream",
     "text": [
      "Info in <TUnfoldDensity::ScanTau>: logtau=-4.289401 y=0.273589 X=2.437414 Y=9.187903\n"
     ]
    },
    {
     "name": "stderr",
     "output_type": "stream",
     "text": [
      "Info in <TUnfoldDensity::ScanTau>: logtau=-4.164401 y=0.268827 X=2.437683 Y=9.174617\n",
      "Info in <TUnfoldDensity::ScanTau>: logtau=-4.039401 y=0.260956 X=2.438460 Y=9.152061\n"
     ]
    },
    {
     "name": "stderr",
     "output_type": "stream",
     "text": [
      "Info in <TUnfoldDensity::ScanTau>: logtau=-3.914401 y=0.248609 X=2.440569 Y=9.114939\n"
     ]
    },
    {
     "name": "stderr",
     "output_type": "stream",
     "text": [
      "Info in <TUnfoldDensity::ScanTau>: logtau=-3.789401 y=0.233716 X=2.445781 Y=9.056598\n"
     ]
    },
    {
     "name": "stderr",
     "output_type": "stream",
     "text": [
      "Info in <TUnfoldDensity::ScanTau>: logtau=-3.414401 y=0.372699 X=2.512137 Y=8.691208\n"
     ]
    },
    {
     "name": "stderr",
     "output_type": "stream",
     "text": [
      "Info in <TUnfoldDensity::ScanTau>: logtau=-3.664401 y=0.223632 X=2.457114 Y=8.970264\n",
      "Info in <TUnfoldDensity::ScanTau>: logtau=-3.539401 y=0.265592 X=2.478281 Y=8.850302\n"
     ]
    },
    {
     "name": "stderr",
     "output_type": "stream",
     "text": [
      "Info in <TUnfoldDensity::ScanTau>: logtau=-4.820651 y=0.279516 X=2.437282 Y=9.204099\n"
     ]
    },
    {
     "name": "stderr",
     "output_type": "stream",
     "text": [
      "Info in <TUnfoldDensity::ScanTau>: logtau=-4.758151 y=0.279323 X=2.437283 Y=9.203576\n"
     ]
    },
    {
     "name": "stderr",
     "output_type": "stream",
     "text": [
      "Info in <TUnfoldDensity::ScanTau>: logtau=-4.695651 y=0.279066 X=2.437285 Y=9.202880\n"
     ]
    },
    {
     "name": "stdout",
     "output_type": "stream",
     "text": [
      "chi**2=289.624+47.9755 / 213\n"
     ]
    },
    {
     "name": "stderr",
     "output_type": "stream",
     "text": [
      "Info in <TUnfoldDensity::ScanTau>: logtau=-4.633151 y=0.278724 X=2.437287 Y=9.201954\n",
      "Info in <TUnfoldDensity::ScanTau>: Result logtau=-3.629816 y=0.220136 X=2.461834 Y=8.940652\n"
     ]
    },
    {
     "name": "stderr",
     "output_type": "stream",
     "text": [
      "Info in <TCanvas::Print>: ps file testUnfold5.ps has been created\n"
     ]
    },
    {
     "name": "stderr",
     "output_type": "stream",
     "text": [
      "Info in <TCanvas::Print>: Current canvas added to ps file testUnfold5.ps\n",
      "Info in <TCanvas::Print>: ps file testUnfold5.ps has been closed\n"
     ]
    }
   ],
   "source": [
    "  // switch on histogram errors\n",
    "  TH1::SetDefaultSumw2();\n",
    "\n",
    "  //==============================================\n",
    "  // step 1 : open output file\n",
    "  TFile *outputFile=new TFile(\"testUnfold5_results.root\",\"recreate\");\n",
    "\n",
    "  //==============================================\n",
    "  // step 2 : read binning schemes and input histograms\n",
    "  TFile *inputFile=new TFile(\"testUnfold5_histograms.root\");\n",
    "\n",
    "  outputFile->cd();\n",
    "\n",
    "  TUnfoldBinning *detectorBinning,*generatorBinning;\n",
    "\n",
    "  inputFile->GetObject(\"detector\",detectorBinning);\n",
    "  inputFile->GetObject(\"generator\",generatorBinning);\n",
    "\n",
    "  if((!detectorBinning)||(!generatorBinning)) {\n",
    "  cout<<\"problem to read binning schemes\\n\";\n",
    "  }\n",
    "\n",
    "  // save binning schemes to output file\n",
    "  detectorBinning->Write();\n",
    "  generatorBinning->Write();\n",
    "\n",
    "  // read histograms\n",
    "  TH1 *histDataReco,*histDataTruth;\n",
    "  TH2 *histMCGenRec;\n",
    "\n",
    "  inputFile->GetObject(\"histDataReco\",histDataReco);\n",
    "  inputFile->GetObject(\"histDataTruth\",histDataTruth);\n",
    "  inputFile->GetObject(\"histMCGenRec\",histMCGenRec);\n",
    "\n",
    "  histDataReco->Write();\n",
    "  histDataTruth->Write();\n",
    "  histMCGenRec->Write();\n",
    "\n",
    "  if((!histDataReco)||(!histDataTruth)||(!histMCGenRec)) {\n",
    "  cout<<\"problem to read input histograms\\n\";\n",
    "  }\n",
    "\n",
    "  //========================\n",
    "  // Step 3: unfolding\n",
    "\n",
    " // preserve the area\n",
    "  TUnfold::EConstraint constraintMode= TUnfold::kEConstraintArea;\n",
    "\n",
    "  // basic choice of regularisation scheme:\n",
    "  //    curvature (second derivative)\n",
    "  TUnfold::ERegMode regMode = TUnfold::kRegModeCurvature;\n",
    "\n",
    "  // density flags\n",
    "  TUnfoldDensity::EDensityMode densityFlags=\n",
    " TUnfoldDensity::kDensityModeBinWidth;\n",
    "\n",
    "  // detailed steering for regularisation\n",
    "  const char *REGULARISATION_DISTRIBUTION=0;\n",
    "  const char *REGULARISATION_AXISSTEERING=\"*[B]\";\n",
    "\n",
    "  // set up matrix of migrations\n",
    "  TUnfoldDensity unfold(histMCGenRec,TUnfold::kHistMapOutputHoriz,\n",
    "                     regMode,constraintMode,densityFlags,\n",
    "                     generatorBinning,detectorBinning,\n",
    "                     REGULARISATION_DISTRIBUTION,\n",
    "                     REGULARISATION_AXISSTEERING);\n",
    "\n",
    "  // define the input vector (the measured data distribution)\n",
    "  unfold.SetInput(histDataReco /* ,0.0,1.0 */);\n",
    "\n",
    "  // print matrix of regularisation conditions\n",
    "#ifdef PRINT_MATRIX_L\n",
    "  TH2 *histL= unfold.GetL(\"L\");\n",
    "  for(Int_t j=1;j<=histL->GetNbinsY();j++) {\n",
    "  cout<<\"L[\"<<unfold.GetLBinning()->GetBinName(j)<<\"]\";\n",
    "  for(Int_t i=1;i<=histL->GetNbinsX();i++) {\n",
    "     Double_t c=histL->GetBinContent(i,j);\n",
    "     if(c!=0.0) cout<<\" [\"<<i<<\"]=\"<<c;\n",
    "  }\n",
    "  cout<<\"\\n\";\n",
    "  }\n",
    "#endif\n",
    "  // run the unfolding\n",
    "  //\n",
    "  // here, tau is determined by scanning the global correlation coefficients\n",
    "\n",
    "  Int_t nScan=30;\n",
    "  TSpline *rhoLogTau=0;\n",
    "  TGraph *lCurve=0;\n",
    "\n",
    "  // for determining tau, scan the correlation coefficients\n",
    "  // correlation coefficients may be probed for all distributions\n",
    "  // or only for selected distributions\n",
    "  // underflow/overflow bins may be included/excluded\n",
    "  //\n",
    "  const char *SCAN_DISTRIBUTION=\"signal\";\n",
    "  const char *SCAN_AXISSTEERING=0;\n",
    "\n",
    "  Int_t iBest=unfold.ScanTau(nScan,0.,0.,&rhoLogTau,\n",
    "                          TUnfoldDensity::kEScanTauRhoMax,\n",
    "                          SCAN_DISTRIBUTION,SCAN_AXISSTEERING,\n",
    "                          &lCurve);\n",
    "\n",
    "  // create graphs with one point to visualize best choice of tau\n",
    "  Double_t t[1],rho[1],x[1],y[1];\n",
    "  rhoLogTau->GetKnot(iBest,t[0],rho[0]);\n",
    "  lCurve->GetPoint(iBest,x[0],y[0]);\n",
    "  TGraph *bestRhoLogTau=new TGraph(1,t,rho);\n",
    "  TGraph *bestLCurve=new TGraph(1,x,y);\n",
    "  Double_t *tAll=new Double_t[nScan],*rhoAll=new Double_t[nScan];\n",
    "  for(Int_t i=0;i<nScan;i++) {\n",
    "  rhoLogTau->GetKnot(i,tAll[i],rhoAll[i]);\n",
    "  }\n",
    "  TGraph *knots=new TGraph(nScan,tAll,rhoAll);\n",
    "\n",
    "  cout<<\"chi**2=\"<<unfold.GetChi2A()<<\"+\"<<unfold.GetChi2L()\n",
    "   <<\" / \"<<unfold.GetNdf()<<\"\\n\";\n",
    "\n",
    "\n",
    "  //===========================\n",
    "  // Step 4: retreive and plot unfolding results\n",
    "\n",
    "  // get unfolding output\n",
    "  TH1 *histDataUnfold=unfold.GetOutput(\"unfolded signal\",0,0,0,kFALSE);\n",
    "  // get MOnte Carlo reconstructed data\n",
    "  TH1 *histMCReco=histMCGenRec->ProjectionY(\"histMCReco\",0,-1,\"e\");\n",
    "  TH1 *histMCTruth=histMCGenRec->ProjectionX(\"histMCTruth\",0,-1,\"e\");\n",
    "  Double_t scaleFactor=histDataTruth->GetSumOfWeights()/\n",
    "  histMCTruth->GetSumOfWeights();\n",
    "  histMCReco->Scale(scaleFactor);\n",
    "  histMCTruth->Scale(scaleFactor);\n",
    "  // get matrix of probabilities\n",
    "  TH2 *histProbability=unfold.GetProbabilityMatrix(\"histProbability\");\n",
    "  // get global correlation coefficients\n",
    "  TH1 *histGlobalCorr=unfold.GetRhoItotal(\"histGlobalCorr\",0,0,0,kFALSE);\n",
    "  TH1 *histGlobalCorrScan=unfold.GetRhoItotal\n",
    "  (\"histGlobalCorrScan\",0,SCAN_DISTRIBUTION,SCAN_AXISSTEERING,kFALSE);\n",
    "  TH2 *histCorrCoeff=unfold.GetRhoIJtotal(\"histCorrCoeff\",0,0,0,kFALSE);\n",
    "\n",
    "  TCanvas *canvas = new TCanvas();\n",
    "  canvas->Print(\"testUnfold5.ps[\");\n",
    "\n",
    "  //========== page 1 ============\n",
    "  // unfolding control plots\n",
    "  // input, matrix, output\n",
    "  // tau-scan, global correlations, correlation coefficients\n",
    "  canvas->Clear();\n",
    "  canvas->Divide(3,2);\n",
    "\n",
    "  // (1) all bins, compare to original MC distribution\n",
    "  canvas->cd(1);\n",
    "  histDataReco->SetMinimum(0.0);\n",
    "  histDataReco->Draw(\"E\");\n",
    "  histMCReco->SetLineColor(kBlue);\n",
    "  histMCReco->Draw(\"SAME HIST\");\n",
    "  // (2) matrix of probabilities\n",
    "  canvas->cd(2);\n",
    "  histProbability->Draw(\"BOX\");\n",
    "  // (3) unfolded data, data truth, MC truth\n",
    "  canvas->cd(3);\n",
    "  gPad->SetLogy();\n",
    "  histDataUnfold->Draw(\"E\");\n",
    "  histDataTruth->SetLineColor(kBlue);\n",
    "  histDataTruth->Draw(\"SAME HIST\");\n",
    "  histMCTruth->SetLineColor(kRed);\n",
    "  histMCTruth->Draw(\"SAME HIST\");\n",
    "  // (4) scan of correlation vs tau\n",
    "  canvas->cd(4);\n",
    "  rhoLogTau->Draw();\n",
    "  knots->Draw(\"*\");\n",
    "  bestRhoLogTau->SetMarkerColor(kRed);\n",
    "  bestRhoLogTau->Draw(\"*\");\n",
    "  // (5) global correlation coefficients for the distributions\n",
    "  //     used during the scan\n",
    "  canvas->cd(5);\n",
    "  //histCorrCoeff->Draw(\"BOX\");\n",
    "  histGlobalCorrScan->Draw(\"HIST\");\n",
    "  // (6) L-curve\n",
    "  canvas->cd(6);\n",
    "  lCurve->Draw(\"AL\");\n",
    "  bestLCurve->SetMarkerColor(kRed);\n",
    "  bestLCurve->Draw(\"*\");\n",
    "\n",
    "\n",
    "  canvas->Print(\"testUnfold5.ps\");\n",
    "\n",
    "  canvas->Print(\"testUnfold5.ps]\");"
   ]
  },
  {
   "cell_type": "markdown",
   "metadata": {},
   "source": [
    "Draw all canvases "
   ]
  },
  {
   "cell_type": "code",
   "execution_count": 3,
   "metadata": {
    "collapsed": false
   },
   "outputs": [
    {
     "data": {
      "image/png": "[encoded data removed]",
      "text/plain": [
       "<IPython.core.display.Image object>"
      ]
     },
     "metadata": {},
     "output_type": "display_data"
    }
   ],
   "source": [
    "gROOT->GetListOfCanvases()->Draw()"
   ]
  }
 ],
 "metadata": {
  "kernelspec": {
   "display_name": "ROOT C++",
   "language": "c++",
   "name": "root"
  },
  "language_info": {
   "codemirror_mode": "text/x-c++src",
   "file_extension": ".C",
   "mimetype": " text/x-c++src",
   "name": "c++"
  }
 },
 "nbformat": 4,
 "nbformat_minor": 0
}
