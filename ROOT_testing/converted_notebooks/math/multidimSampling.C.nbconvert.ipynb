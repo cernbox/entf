{
 "cells": [
  {
   "cell_type": "markdown",
   "metadata": {},
   "source": [
    "# Multidim Sampling\n",
    "<hr style=\"border-top-width: 4px; border-top-color: #34609b;\">\n",
    "Example of sampling a multi-dim distribution using the DistSampler class\n",
    "NOTE: This tutorial must be run with ACLIC\n",
    "\n",
    "\n",
    "\n",
    "\n",
    "**Author:** Lorenzo Moneta  \n",
    "<i><small>This notebook tutorial was automatically generated with <a href= \"https://github.com/root-mirror/root/blob/master/documentation/doxygen/converttonotebook.py\">ROOTBOOK-izer (Beta)</a> from the macro found in the ROOT repository  on Thursday, January 19, 2017 at 04:33 PM.</small></i>"
   ]
  },
  {
   "cell_type": "markdown",
   "metadata": {},
   "source": [
    "Function (a 4d gaussian)"
   ]
  },
  {
   "cell_type": "code",
   "execution_count": 1,
   "metadata": {
    "collapsed": false
   },
   "outputs": [],
   "source": [
    "%%cpp -d\n",
    "#include \"TMath.h\"\n",
    "#include \"TF2.h\"\n",
    "#include \"TStopwatch.h\"\n",
    "#include \"Math/DistSampler.h\"\n",
    "#include \"Math/DistSamplerOptions.h\"\n",
    "#include \"Math/MinimizerOptions.h\"\n",
    "#include \"Math/Factory.h\"\n",
    "\n",
    "#include \"TKDTreeBinning.h\"\n",
    "\n",
    "#include \"TTree.h\"\n",
    "#include \"TFile.h\"\n",
    "#include \"TMatrixDSym.h\"\n",
    "#include \"TVectorD.h\"\n",
    "#include \"TCanvas.h\"\n",
    "#include <cmath>"
   ]
  },
  {
   "cell_type": "markdown",
   "metadata": {},
   "source": [
    "Gauss nd function\n",
    " make a class in order to avoid constructing the\n",
    " matrices for every call\n",
    " This however requires that  the code must be compiled with ACLIC"
   ]
  },
  {
   "cell_type": "code",
   "execution_count": 2,
   "metadata": {
    "collapsed": false
   },
   "outputs": [],
   "source": [
    "bool debug = false;"
   ]
  },
  {
   "cell_type": "markdown",
   "metadata": {},
   "source": [
    "Define the gausnd strcture"
   ]
  },
  {
   "cell_type": "code",
   "execution_count": 3,
   "metadata": {
    "collapsed": false
   },
   "outputs": [],
   "source": [
    "struct GausND {\n",
    "\n",
    "   TVectorD X;\n",
    "   TVectorD Mu;\n",
    "   TMatrixDSym CovMat;\n",
    "\n",
    "   GausND( int dim ) :\n",
    "      X(TVectorD(dim)),\n",
    "      Mu(TVectorD(dim)),\n",
    "      CovMat(TMatrixDSym(dim) )\n",
    "   {}\n",
    "\n",
    "   double operator() (double *x, double *p) {\n",
    "      // 4 parameters\n",
    "      int dim = X.GetNrows();\n",
    "      int k = 0;\n",
    "      for (int i = 0; i<dim; ++i) { X[i] = x[i] - p[k]; k++; }\n",
    "      for (int i = 0; i<dim; ++i) {\n",
    "         CovMat(i,i) = p[k]*p[k];\n",
    "         k++;\n",
    "      }\n",
    "      for (int i = 0; i<dim; ++i) {\n",
    "         for (int j = i+1; j<dim; ++j) {\n",
    "            // p now are the correlations N(N-1)/2\n",
    "               CovMat(i,j) = p[k]*sqrt(CovMat(i,i)*CovMat(j,j));\n",
    "               CovMat(j,i) = CovMat(i,j);\n",
    "               k++;\n",
    "         }\n",
    "      }\n",
    "      if (debug) {\n",
    "         X.Print();\n",
    "         CovMat.Print();\n",
    "      }\n",
    "\n",
    "      double det = CovMat.Determinant();\n",
    "      if (det <= 0) {\n",
    "         Fatal(\"GausND\",\"Determinant is <= 0 det = %f\",det);\n",
    "         CovMat.Print();\n",
    "         return 0;\n",
    "      }\n",
    "      double norm = std::pow( 2. * TMath::Pi(), dim/2) * sqrt(det);\n",
    "      // compute the gaussians\n",
    "      CovMat.Invert();\n",
    "      double fval  = std::exp( - 0.5 * CovMat.Similarity(X) )/ norm;\n",
    "\n",
    "      if (debug) {\n",
    "         std::cout << \"det  \" << det << std::endl;\n",
    "         std::cout << \"norm \" << norm << std::endl;\n",
    "         std::cout << \"fval \" << fval << std::endl;\n",
    "      }\n",
    "\n",
    "      return fval;\n",
    "   }\n",
    "};"
   ]
  },
  {
   "cell_type": "markdown",
   "metadata": {},
   "source": [
    "Use the math namespace"
   ]
  },
  {
   "cell_type": "code",
   "execution_count": 4,
   "metadata": {
    "collapsed": false
   },
   "outputs": [],
   "source": [
    "%%cpp -d\n",
    "// This is a workaround to make sure the namespace is used inside functions\n",
    "using namespace ROOT::Math;"
   ]
  },
  {
   "cell_type": "code",
   "execution_count": 5,
   "metadata": {
    "collapsed": false
   },
   "outputs": [],
   "source": [
    "const int N = 10000;\n",
    "/*const int NBin = 1000;*/\n",
    "const int DIM = 4;\n",
    "\n",
    "double xmin[] = {-10,-10,-10, -10};\n",
    "double xmax[] = { 10, 10, 10,  10};\n",
    "double par0[] = { 1., -1., 2, 0, // the gaussian mu\n",
    "                  1, 2, 1, 3, // the sigma\n",
    "                  0.5,0.,0.,0.,0.,0.8 };  // the correlation\n",
    "\n",
    "const int NPAR = DIM + DIM*(DIM+1)/2; // 14 in the 4d case"
   ]
  },
  {
   "cell_type": "markdown",
   "metadata": {},
   "source": [
    "Generate the sample"
   ]
  },
  {
   "cell_type": "code",
   "execution_count": 6,
   "metadata": {
    "collapsed": false
   },
   "outputs": [],
   "source": [
    "GausND gaus4d(4);\n",
    "TF1 * f = new TF1(\"functionND\",gaus4d,0,1,14);\n",
    "f->SetParameters(par0);\n",
    "\n",
    "double x0[] = {0,0,0,0};"
   ]
  },
  {
   "cell_type": "markdown",
   "metadata": {},
   "source": [
    "For debugging"
   ]
  },
  {
   "cell_type": "code",
   "execution_count": 7,
   "metadata": {
    "collapsed": false
   },
   "outputs": [],
   "source": [
    "if (debug) f->EvalPar(x0,0);\n",
    "debug = false;\n",
    "\n",
    "TString name;\n",
    "for (int i = 0; i < NPAR; ++i )  {\n",
    "   if (i < DIM) f->SetParName(i, name.Format(\"mu_%d\",i+1) );\n",
    "   else if (i < 2*DIM) f->SetParName(i, name.Format(\"sig_%d\",i-DIM+1) );\n",
    "   else if (i < 2*DIM) f->SetParName(i, name.Format(\"sig_%d\",i-2*DIM+1) );\n",
    "}\n",
    "\n",
    "/*ROOT::Math::DistSamplerOptions::SetDefaultSampler(\"Foam\");*/\n",
    "DistSampler * sampler = Factory::CreateDistSampler();\n",
    "if (sampler == 0) {\n",
    "   Info(\"multidimSampling\",\"Default sampler %s is not available try with Foam \",\n",
    "        ROOT::Math::DistSamplerOptions::DefaultSampler().c_str() );\n",
    "   ROOT::Math::DistSamplerOptions::SetDefaultSampler(\"Foam\");\n",
    "}\n",
    "sampler = Factory::CreateDistSampler();\n",
    "if (sampler == 0) {\n",
    "   Error(\"multidimSampling\",\"Foam sampler is not available - exit \");\n",
    "   return;\n",
    "}\n",
    "\n",
    "sampler->SetFunction(*f,DIM);\n",
    "sampler->SetRange(xmin,xmax);\n",
    "bool ret = sampler->Init();\n",
    "\n",
    "std::vector<double> data1(DIM*N);\n",
    "double v[DIM];\n",
    "TStopwatch w;\n",
    "\n",
    "if (!ret) {\n",
    "   Error(\"Sampler::Init\",\"Error initializing unuran sampler\");\n",
    "   return;\n",
    "}"
   ]
  },
  {
   "cell_type": "markdown",
   "metadata": {},
   "source": [
    "Generate the data"
   ]
  },
  {
   "cell_type": "code",
   "execution_count": 8,
   "metadata": {
    "collapsed": false
   },
   "outputs": [],
   "source": [
    "w.Start();\n",
    "for (int i = 0; i < N; ++i) {\n",
    "   sampler->Sample(v);\n",
    "   for (int j = 0; j < DIM; ++j)\n",
    "      data1[N*j + i]     = v[j];\n",
    "}\n",
    "w.Stop();\n",
    "// w.Print();"
   ]
  },
  {
   "cell_type": "markdown",
   "metadata": {},
   "source": [
    "Fill tree with data"
   ]
  },
  {
   "cell_type": "code",
   "execution_count": 9,
   "metadata": {
    "collapsed": false
   },
   "outputs": [],
   "source": [
    "TFile * file = new TFile(\"multiDimSampling.root\",\"RECREATE\");\n",
    "double x[DIM];\n",
    "TTree * t1 = new TTree(\"t1\",\"Tree from Unuran\");\n",
    "t1->Branch(\"x\",x,\"x[4]/D\");\n",
    "for (int i = 0; i < N; ++i) {\n",
    "   for (int j = 0; j < DIM; ++j) {\n",
    "      x[j] = data1[i+N*j];\n",
    "   }\n",
    "   t1->Fill();\n",
    "}"
   ]
  },
  {
   "cell_type": "markdown",
   "metadata": {},
   "source": [
    "Plot the data"
   ]
  },
  {
   "cell_type": "code",
   "execution_count": 10,
   "metadata": {
    "collapsed": false
   },
   "outputs": [
    {
     "name": "stderr",
     "output_type": "stream",
     "text": [
      "Info in <TCanvas::MakeDefCanvas>:  created default TCanvas with name c1\n"
     ]
    }
   ],
   "source": [
    "t1->Draw(\"x[0]:x[1]:x[2]:x[3]\",\"\",\"candle\");\n",
    "TCanvas * c2 = new TCanvas();\n",
    "c2->Divide(3,2);\n",
    "int ic=1;\n",
    "c2->cd(ic++);\n",
    "t1->Draw(\"x[0]:x[1]\");\n",
    "c2->cd(ic++);\n",
    "t1->Draw(\"x[0]:x[2]\");\n",
    "c2->cd(ic++);\n",
    "t1->Draw(\"x[0]:x[3]\");\n",
    "c2->cd(ic++);\n",
    "t1->Draw(\"x[1]:x[2]\");\n",
    "c2->cd(ic++);\n",
    "t1->Draw(\"x[1]:x[3]\");\n",
    "c2->cd(ic++);\n",
    "t1->Draw(\"x[2]:x[3]\");\n",
    "\n",
    "t1->Write();\n",
    "file->Close();"
   ]
  },
  {
   "cell_type": "markdown",
   "metadata": {},
   "source": [
    "Draw all canvases "
   ]
  },
  {
   "cell_type": "code",
   "execution_count": 11,
   "metadata": {
    "collapsed": false
   },
   "outputs": [
    {
     "data": {
      "image/png": "[encoded data removed]",
      "text/plain": [
       "<IPython.core.display.Image object>"
      ]
     },
     "metadata": {},
     "output_type": "display_data"
    },
    {
     "data": {
      "image/png": "[encoded data removed]",
      "text/plain": [
       "<IPython.core.display.Image object>"
      ]
     },
     "metadata": {},
     "output_type": "display_data"
    }
   ],
   "source": [
    "gROOT->GetListOfCanvases()->Draw()"
   ]
  }
 ],
 "metadata": {
  "kernelspec": {
   "display_name": "ROOT C++",
   "language": "c++",
   "name": "root"
  },
  "language_info": {
   "codemirror_mode": "text/x-c++src",
   "file_extension": ".C",
   "mimetype": " text/x-c++src",
   "name": "c++"
  }
 },
 "nbformat": 4,
 "nbformat_minor": 0
}
