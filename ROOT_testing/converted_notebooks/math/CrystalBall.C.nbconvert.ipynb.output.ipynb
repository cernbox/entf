{
 "cells": [
  {
   "cell_type": "markdown",
   "metadata": {},
   "source": [
    "#  Crystal Ball\n",
    "<hr style=\"border-top-width: 4px; border-top-color: #34609b;\">\n",
    "Example of CrystalBall Function and its distribution (pdf and cdf)\n",
    "\n",
    "\n",
    "\n",
    "\n",
    "**Author:** Lorenzo Moneta  \n",
    "<i><small>This notebook tutorial was automatically generated with <a href= \"https://github.com/root-mirror/root/blob/master/documentation/doxygen/converttonotebook.py\">ROOTBOOK-izer (Beta)</a> from the macro found in the ROOT repository  on Thursday, January 19, 2017 at 04:32 PM.</small></i>"
   ]
  },
  {
   "cell_type": "code",
   "execution_count": 1,
   "metadata": {
    "collapsed": false
   },
   "outputs": [],
   "source": [
    "auto c1 = new TCanvas();\n",
    "c1->Divide(1,3);"
   ]
  },
  {
   "cell_type": "markdown",
   "metadata": {},
   "source": [
    "Crystal ball function"
   ]
  },
  {
   "cell_type": "code",
   "execution_count": 2,
   "metadata": {
    "collapsed": false
   },
   "outputs": [],
   "source": [
    "c1->cd(1);\n",
    "\n",
    "auto f1  = new TF1(\"f1\",\"crystalball\",-5,5);\n",
    "f1->SetParameters(1, 0, 1, 2, 0.5);\n",
    "f1->SetLineColor(kRed);\n",
    "f1->Draw();"
   ]
  },
  {
   "cell_type": "markdown",
   "metadata": {},
   "source": [
    "Use directly the functionin root::math note that the parameters definition is different is (alpha, n sigma, mu)"
   ]
  },
  {
   "cell_type": "code",
   "execution_count": 3,
   "metadata": {
    "collapsed": false
   },
   "outputs": [],
   "source": [
    "auto f2 = new TF1(\"f2\",\"ROOT::Math::crystalball_function(x, 2, 1, 1, 0)\",-5,5);\n",
    "f2->SetLineColor(kGreen);\n",
    "f2->Draw(\"same\");\n",
    "auto f3 = new TF1(\"f3\",\"ROOT::Math::crystalball_function(x, 2, 2, 1, 0)\",-5,5);\n",
    "f3->SetLineColor(kBlue);\n",
    "f3->Draw(\"same\");\n",
    "\n",
    "auto legend = new TLegend(0.7,0.6,0.9,1.);\n",
    "legend->AddEntry(f1,\"N=0.5 alpha=2\",\"L\");\n",
    "legend->AddEntry(f2,\"N=1   alpha=2\",\"L\");\n",
    "legend->AddEntry(f3,\"N=2   alpha=2\",\"L\");\n",
    "legend->Draw();\n",
    "\n",
    "c1->cd(2);\n",
    "auto pdf1  = new TF1(\"pdf\",\"crystalballn\",-5,5);\n",
    "pdf1->SetParameters(2, 0, 1, 2, 3);\n",
    "pdf1->Draw();\n",
    "auto pdf2 = new TF1(\"pdf\",\"ROOT::Math::crystalball_pdf(x, 3, 1.01, 1, 0)\",-5,5);\n",
    "pdf2->SetLineColor(kBlue);\n",
    "pdf2->Draw(\"same\");\n",
    "auto pdf3 = new TF1(\"pdf\",\"ROOT::Math::crystalball_pdf(x, 2, 2, 1, 0)\",-5,5);\n",
    "pdf3->SetLineColor(kGreen);\n",
    "pdf3->Draw(\"same\");\n",
    "\n",
    "legend = new TLegend(0.7,0.6,0.9,1.);\n",
    "legend->AddEntry(pdf1,\"N=3    alpha=2\",\"L\");\n",
    "legend->AddEntry(pdf2,\"N=1.01 alpha=3\",\"L\");\n",
    "legend->AddEntry(pdf3,\"N=2    alpha=3\",\"L\");\n",
    "legend->Draw();\n",
    "\n",
    "c1->cd(3);\n",
    "auto cdf  = new TF1(\"cdf\",\"ROOT::Math::crystalball_cdf(x, 1.2, 2, 1, 0)\",-5,5);\n",
    "auto cdfc  = new TF1(\"cdfc\",\"ROOT::Math::crystalball_cdf_c(x, 1.2, 2, 1, 0)\",-5,5);\n",
    "cdf->SetLineColor(kRed-3);\n",
    "cdf->SetMinimum(0.);\n",
    "cdf->SetMaximum(1.);\n",
    "cdf->Draw();\n",
    "cdfc->SetLineColor(kMagenta);\n",
    "cdfc->Draw(\"Same\");\n",
    "\n",
    "legend = new TLegend(0.7,0.7,0.9,1.);\n",
    "legend->AddEntry(cdf,\"N=1.2 alpha=2\",\"L\");\n",
    "legend->AddEntry(cdfc,\"N=1.2 alpha=2\",\"L\");\n",
    "legend->Draw();"
   ]
  },
  {
   "cell_type": "markdown",
   "metadata": {},
   "source": [
    "Draw all canvases "
   ]
  },
  {
   "cell_type": "code",
   "execution_count": 4,
   "metadata": {
    "collapsed": false
   },
   "outputs": [
    {
     "data": {
      "image/png": "[encoded data removed]",
      "text/plain": [
       "<IPython.core.display.Image object>"
      ]
     },
     "metadata": {},
     "output_type": "display_data"
    }
   ],
   "source": [
    "gROOT->GetListOfCanvases()->Draw()"
   ]
  }
 ],
 "metadata": {
  "kernelspec": {
   "display_name": "ROOT C++",
   "language": "c++",
   "name": "root"
  },
  "language_info": {
   "codemirror_mode": "text/x-c++src",
   "file_extension": ".C",
   "mimetype": " text/x-c++src",
   "name": "c++"
  }
 },
 "nbformat": 4,
 "nbformat_minor": 0
}
