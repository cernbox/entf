{
 "cells": [
  {
   "cell_type": "markdown",
   "metadata": {},
   "source": [
    "# Math Student\n",
    "<hr style=\"border-top-width: 4px; border-top-color: #34609b;\">\n",
    "Tutorial illustrating the use of the Student and F distributions\n",
    "\n",
    "\n",
    "\n",
    "\n",
    "**Author:** Anna Kreshuk  \n",
    "<i><small>This notebook tutorial was automatically generated with <a href= \"https://github.com/root-mirror/root/blob/master/documentation/doxygen/converttonotebook.py\">ROOTBOOK-izer (Beta)</a> from the macro found in the ROOT repository  on Thursday, January 19, 2017 at 04:33 PM.</small></i>"
   ]
  },
  {
   "cell_type": "code",
   "execution_count": 1,
   "metadata": {
    "collapsed": false
   },
   "outputs": [],
   "source": [
    "%%cpp -d\n",
    "#include \"TMath.h\"\n",
    "#include \"TF1.h\"\n",
    "#include \"TCanvas.h\"\n",
    "#include <Riostream.h>\n",
    "#include \"TLegend.h\"\n",
    "#include \"TLegendEntry.h\""
   ]
  },
  {
   "cell_type": "markdown",
   "metadata": {},
   "source": [
    "Drawing the set of student density functions\n",
    "normal(0, 1) density drawn for comparison"
   ]
  },
  {
   "cell_type": "code",
   "execution_count": 2,
   "metadata": {
    "collapsed": false
   },
   "outputs": [],
   "source": [
    "TCanvas *DistCanvas = new TCanvas(\"DistCanvas\", \"Distribution graphs\", 10, 10, 800, 650);\n",
    "DistCanvas->SetFillColor(17);\n",
    "DistCanvas->Divide(2, 2);\n",
    "DistCanvas->cd(1);\n",
    "gPad->SetGrid();\n",
    "gPad->SetFrameFillColor(19);\n",
    "TLegend *leg = new TLegend(0.6, 0.7, 0.89, 0.89);\n",
    "\n",
    "\n",
    "TF1* fgaus = new TF1(\"gaus\", \"TMath::Gaus(x, [0], [1], [2])\", -5, 5);\n",
    "fgaus->SetTitle(\"Student density\");\n",
    "fgaus->SetLineStyle(2);\n",
    "fgaus->SetLineWidth(1);\n",
    "fgaus->SetParameters(0, 1, kTRUE);\n",
    "leg->AddEntry(fgaus->DrawCopy(), \"Normal(0,1)\", \"l\");\n",
    "\n",
    "TF1* student = new TF1(\"student\", \"TMath::Student(x,[0])\", -5, 5);"
   ]
  },
  {
   "cell_type": "markdown",
   "metadata": {},
   "source": [
    "Student->settitle(\"student density\");"
   ]
  },
  {
   "cell_type": "code",
   "execution_count": 3,
   "metadata": {
    "collapsed": false
   },
   "outputs": [],
   "source": [
    "student->SetLineWidth(1);\n",
    "student->SetParameter(0, 10);\n",
    "student->SetLineColor(4);\n",
    "leg->AddEntry(student->DrawCopy(\"lsame\"), \"10 degrees of freedom\", \"l\");\n",
    "\n",
    "student->SetParameter(0, 3);\n",
    "student->SetLineColor(2);\n",
    "leg->AddEntry(student->DrawCopy(\"lsame\"), \"3 degrees of freedom\", \"l\");\n",
    "\n",
    "student->SetParameter(0, 1);\n",
    "student->SetLineColor(1);\n",
    "leg->AddEntry(student->DrawCopy(\"lsame\"), \"1 degree of freedom\", \"l\");\n",
    "\n",
    "leg->Draw();"
   ]
  },
  {
   "cell_type": "markdown",
   "metadata": {},
   "source": [
    "Drawing the set of student cumulative probability functions"
   ]
  },
  {
   "cell_type": "code",
   "execution_count": 4,
   "metadata": {
    "collapsed": false
   },
   "outputs": [],
   "source": [
    "DistCanvas->cd(2);\n",
    "gPad->SetFrameFillColor(19);\n",
    "gPad->SetGrid();\n",
    "TF1 *studentI = new TF1(\"studentI\", \"TMath::StudentI(x, [0])\", -5, 5);\n",
    "studentI->SetTitle(\"Student cumulative dist.\");\n",
    "studentI->SetLineWidth(1);\n",
    "TLegend *leg2 = new TLegend(0.6, 0.4, 0.89, 0.6);\n",
    "\n",
    "studentI->SetParameter(0, 10);\n",
    "studentI->SetLineColor(4);\n",
    "leg2->AddEntry(studentI->DrawCopy(), \"10 degrees of freedom\", \"l\");\n",
    "\n",
    "studentI->SetParameter(0, 3);\n",
    "studentI->SetLineColor(2);\n",
    "leg2->AddEntry(studentI->DrawCopy(\"lsame\"), \"3 degrees of freedom\", \"l\");\n",
    "\n",
    "studentI->SetParameter(0, 1);\n",
    "studentI->SetLineColor(1);\n",
    "leg2->AddEntry(studentI->DrawCopy(\"lsame\"), \"1 degree of freedom\", \"l\");\n",
    "leg2->Draw();"
   ]
  },
  {
   "cell_type": "markdown",
   "metadata": {},
   "source": [
    "Drawing the set of f-dist. densities"
   ]
  },
  {
   "cell_type": "code",
   "execution_count": 5,
   "metadata": {
    "collapsed": false
   },
   "outputs": [],
   "source": [
    "TF1* fDist = new TF1(\"fDist\", \"TMath::FDist(x, [0], [1])\", 0, 2);\n",
    "fDist->SetTitle(\"F-Dist. density\");\n",
    "fDist->SetLineWidth(1);\n",
    "TLegend* legF1 = new TLegend(0.7, 0.7, 0.89, 0.89);\n",
    "\n",
    "DistCanvas->cd(3);\n",
    "gPad->SetFrameFillColor(19);\n",
    "gPad->SetGrid();\n",
    "\n",
    "fDist->SetParameters(1, 1);\n",
    "fDist->SetLineColor(1);\n",
    "legF1->AddEntry(fDist->DrawCopy(), \"N=1 M=1\", \"l\");\n",
    "\n",
    "fDist->SetParameter(1, 10);\n",
    "fDist->SetLineColor(2);\n",
    "legF1->AddEntry(fDist->DrawCopy(\"lsame\"), \"N=1 M=10\", \"l\");\n",
    "\n",
    "fDist->SetParameters(10, 1);\n",
    "fDist->SetLineColor(8);\n",
    "legF1->AddEntry(fDist->DrawCopy(\"lsame\"), \"N=10 M=1\", \"l\");\n",
    "\n",
    "fDist->SetParameters(10, 10);\n",
    "fDist->SetLineColor(4);\n",
    "legF1->AddEntry(fDist->DrawCopy(\"lsame\"), \"N=10 M=10\", \"l\");\n",
    "\n",
    "legF1->Draw();"
   ]
  },
  {
   "cell_type": "markdown",
   "metadata": {},
   "source": [
    "Drawing the set of f cumulative dist.functions"
   ]
  },
  {
   "cell_type": "code",
   "execution_count": 6,
   "metadata": {
    "collapsed": false
   },
   "outputs": [],
   "source": [
    "TF1* fDistI = new TF1(\"fDist\", \"TMath::FDistI(x, [0], [1])\", 0, 2);\n",
    "fDistI->SetTitle(\"Cumulative dist. function for F\");\n",
    "fDistI->SetLineWidth(1);\n",
    "TLegend* legF2 = new TLegend(0.7, 0.3, 0.89, 0.5);\n",
    "\n",
    "DistCanvas->cd(4);\n",
    "gPad->SetFrameFillColor(19);\n",
    "gPad->SetGrid();\n",
    "fDistI->SetParameters(1, 1);\n",
    "fDistI->SetLineColor(1);\n",
    "legF2->AddEntry(fDistI->DrawCopy(), \"N=1 M=1\", \"l\");\n",
    "\n",
    "fDistI->SetParameters(1, 10);\n",
    "fDistI->SetLineColor(2);\n",
    "legF2->AddEntry(fDistI->DrawCopy(\"lsame\"), \"N=1 M=10\", \"l\");\n",
    "\n",
    "fDistI->SetParameters(10, 1);\n",
    "fDistI->SetLineColor(8);\n",
    "legF2->AddEntry(fDistI->DrawCopy(\"lsame\"), \"N=10 M=1\", \"l\");\n",
    "\n",
    "fDistI->SetParameters(10, 10);\n",
    "fDistI->SetLineColor(4);\n",
    "legF2->AddEntry(fDistI->DrawCopy(\"lsame\"), \"N=10 M=10\", \"l\");\n",
    "\n",
    "legF2->Draw();\n",
    "DistCanvas->cd();"
   ]
  },
  {
   "cell_type": "markdown",
   "metadata": {},
   "source": [
    "Draw all canvases "
   ]
  },
  {
   "cell_type": "code",
   "execution_count": 7,
   "metadata": {
    "collapsed": false
   },
   "outputs": [
    {
     "data": {
      "image/png": "[encoded data removed]",
      "text/plain": [
       "<IPython.core.display.Image object>"
      ]
     },
     "metadata": {},
     "output_type": "display_data"
    }
   ],
   "source": [
    "gROOT->GetListOfCanvases()->Draw()"
   ]
  }
 ],
 "metadata": {
  "kernelspec": {
   "display_name": "ROOT C++",
   "language": "c++",
   "name": "root"
  },
  "language_info": {
   "codemirror_mode": "text/x-c++src",
   "file_extension": ".C",
   "mimetype": " text/x-c++src",
   "name": "c++"
  }
 },
 "nbformat": 4,
 "nbformat_minor": 0
}
