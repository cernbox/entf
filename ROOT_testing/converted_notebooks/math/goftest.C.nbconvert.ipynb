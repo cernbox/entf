{
 "cells": [
  {
   "cell_type": "markdown",
   "metadata": {},
   "source": [
    "# Goftest\n",
    "<hr style=\"border-top-width: 4px; border-top-color: #34609b;\">\n",
    "GoFTest tutorial macro\n",
    "\n",
    "Using Anderson-Darling and Kolmogorov-Smirnov goodness of fit tests\n",
    "1 sample test is performed comparing data with a log-normal distribution\n",
    "and a 2 sample test is done comparing two gaussian data sets.\n",
    "\n",
    "\n",
    "\n",
    "\n",
    "**Author:** Bartolomeu Rabacal  \n",
    "<i><small>This notebook tutorial was automatically generated with <a href= \"https://github.com/root-mirror/root/blob/master/documentation/doxygen/converttonotebook.py\">ROOTBOOK-izer (Beta)</a> from the macro found in the ROOT repository  on Thursday, January 19, 2017 at 04:32 PM.</small></i>"
   ]
  },
  {
   "cell_type": "code",
   "execution_count": 1,
   "metadata": {
    "collapsed": false
   },
   "outputs": [
    {
     "name": "stdout",
     "output_type": "stream",
     "text": [
      "\u001b[?1034h"
     ]
    }
   ],
   "source": [
    "%%cpp -d\n",
    "#include <cassert>\n",
    "#include \"TCanvas.h\"\n",
    "#include \"TPaveText.h\"\n",
    "#include \"TH1.h\"\n",
    "#include \"TF1.h\"\n",
    "#include \"Math/GoFTest.h\"\n",
    "#include \"Math/Functor.h\"\n",
    "#include \"TRandom3.h\"\n",
    "#include \"Math/DistFunc.h\""
   ]
  },
  {
   "cell_type": "markdown",
   "metadata": {},
   "source": [
    "  need to use Functor1D\n",
    " "
   ]
  },
  {
   "cell_type": "code",
   "execution_count": 2,
   "metadata": {
    "collapsed": false
   },
   "outputs": [],
   "source": [
    "%%cpp -d\n",
    "double landau(double x) {\n",
    "   return ROOT::Math::landau_pdf(x);\n",
    "}"
   ]
  },
  {
   "cell_type": "markdown",
   "metadata": {},
   "source": [
    "------------------------------------------------------------------------\n",
    " Case 1: Create logNormal random sample"
   ]
  },
  {
   "cell_type": "code",
   "execution_count": 3,
   "metadata": {
    "collapsed": false
   },
   "outputs": [],
   "source": [
    "UInt_t nEvents1 = 1000;"
   ]
  },
  {
   "cell_type": "markdown",
   "metadata": {},
   "source": [
    "Root::math::random<root::math::gslrngmt> r;"
   ]
  },
  {
   "cell_type": "code",
   "execution_count": 4,
   "metadata": {
    "collapsed": false
   },
   "outputs": [],
   "source": [
    "TF1 * f1 = new TF1(\"logNormal\",\"ROOT::Math::lognormal_pdf(x,[0],[1])\",0,500);"
   ]
  },
  {
   "cell_type": "markdown",
   "metadata": {},
   "source": [
    "Set the lognormal parameters (m and s)"
   ]
  },
  {
   "cell_type": "code",
   "execution_count": 5,
   "metadata": {
    "collapsed": false
   },
   "outputs": [],
   "source": [
    "f1->SetParameters(4.0,1.0);\n",
    "f1->SetNpx(1000);\n",
    "\n",
    "\n",
    "Double_t* sample1 = new Double_t[nEvents1];\n",
    "\n",
    "TH1D* h1smp = new TH1D(\"h1smp\", \"LogNormal distribution histogram\", 100, 0, 500);\n",
    "h1smp->SetStats(kFALSE);\n",
    "\n",
    "for (UInt_t i = 0; i < nEvents1; ++i) {\n",
    "   //Double_t data = f1->GetRandom();\n",
    "   Double_t data = gRandom->Gaus(4,1);\n",
    "   data = TMath::Exp(data);\n",
    "   sample1[i] = data;\n",
    "   h1smp->Fill(data);\n",
    "}"
   ]
  },
  {
   "cell_type": "markdown",
   "metadata": {},
   "source": [
    "Normalize correctly the histogram using the entries inside"
   ]
  },
  {
   "cell_type": "code",
   "execution_count": 6,
   "metadata": {
    "collapsed": false
   },
   "outputs": [],
   "source": [
    "h1smp->Scale( ROOT::Math::lognormal_cdf(500.,4.,1) / nEvents1, \"width\");\n",
    "\n",
    "TCanvas* c = new TCanvas(\"c\",\"1-Sample and 2-Samples GoF Tests\");\n",
    "c->Divide(1, 2);\n",
    "TPad * pad = (TPad *)c->cd(1);\n",
    "h1smp->Draw();\n",
    "h1smp->SetLineColor(kBlue);\n",
    "pad->SetLogy();\n",
    "f1->SetNpx(100); // use same points as histo for drawing\n",
    "f1->SetLineColor(kRed);\n",
    "f1->Draw(\"SAME\");"
   ]
  },
  {
   "cell_type": "markdown",
   "metadata": {},
   "source": [
    "-----------------------------------------\n",
    " Create GoFTest object"
   ]
  },
  {
   "cell_type": "code",
   "execution_count": 7,
   "metadata": {
    "collapsed": false
   },
   "outputs": [],
   "source": [
    "ROOT::Math::GoFTest* goftest_1 = new ROOT::Math::GoFTest(nEvents1, sample1, ROOT::Math::GoFTest::kLogNormal);"
   ]
  },
  {
   "cell_type": "markdown",
   "metadata": {},
   "source": [
    "----------------------------------------------------\n",
    " Possible calls for the Anderson - DarlingTest test \n",
    " a) Returning the Anderson-Darling standardized test statistic "
   ]
  },
  {
   "cell_type": "code",
   "execution_count": 8,
   "metadata": {
    "collapsed": false
   },
   "outputs": [],
   "source": [
    "Double_t A2_1 = goftest_1-> AndersonDarlingTest(\"t\");\n",
    "Double_t A2_2 = (*goftest_1)(ROOT::Math::GoFTest::kAD, \"t\");\n",
    "assert(A2_1 == A2_2);"
   ]
  },
  {
   "cell_type": "markdown",
   "metadata": {},
   "source": [
    "B) returning the p-value for the anderson-darling test statistic "
   ]
  },
  {
   "cell_type": "code",
   "execution_count": 9,
   "metadata": {
    "collapsed": false
   },
   "outputs": [],
   "source": [
    "Double_t pvalueAD_1 = goftest_1-> AndersonDarlingTest(); // p-value is the default choice\n",
    "Double_t pvalueAD_2 = (*goftest_1)(); // p-value and Anderson - Darling Test are the default choices\n",
    "assert(pvalueAD_1 == pvalueAD_2);"
   ]
  },
  {
   "cell_type": "markdown",
   "metadata": {},
   "source": [
    "Rebuild the test using the default 1-sample construtor "
   ]
  },
  {
   "cell_type": "code",
   "execution_count": 10,
   "metadata": {
    "collapsed": false
   },
   "outputs": [],
   "source": [
    "delete goftest_1;\n",
    "goftest_1 = new ROOT::Math::GoFTest(nEvents1, sample1 ); // User must then input a distribution type option\n",
    "goftest_1->SetDistribution(ROOT::Math::GoFTest::kLogNormal);"
   ]
  },
  {
   "cell_type": "markdown",
   "metadata": {},
   "source": [
    "--------------------------------------------------\n",
    " Possible calls for the Kolmogorov - Smirnov test \n",
    " a) Returning the Kolmogorov-Smirnov standardized test statistic "
   ]
  },
  {
   "cell_type": "code",
   "execution_count": 11,
   "metadata": {
    "collapsed": false
   },
   "outputs": [],
   "source": [
    "Double_t Dn_1 = goftest_1-> KolmogorovSmirnovTest(\"t\");\n",
    "Double_t Dn_2 = (*goftest_1)(ROOT::Math::GoFTest::kKS, \"t\");\n",
    "assert(Dn_1 == Dn_2);"
   ]
  },
  {
   "cell_type": "markdown",
   "metadata": {},
   "source": [
    "B) returning the p-value for the kolmogorov-smirnov test statistic "
   ]
  },
  {
   "cell_type": "code",
   "execution_count": 12,
   "metadata": {
    "collapsed": false
   },
   "outputs": [],
   "source": [
    "Double_t pvalueKS_1 = goftest_1-> KolmogorovSmirnovTest();\n",
    "Double_t pvalueKS_2 = (*goftest_1)(ROOT::Math::GoFTest::kKS);\n",
    "assert(pvalueKS_1 == pvalueKS_2);"
   ]
  },
  {
   "cell_type": "markdown",
   "metadata": {},
   "source": [
    "Valid but incorrect calls for the 2-samples methods of the 1-samples constructed goftest_1"
   ]
  },
  {
   "cell_type": "code",
   "execution_count": 13,
   "metadata": {
    "collapsed": false
   },
   "outputs": [],
   "source": [
    "#ifdef TEST_ERROR_MESSAGE\n",
    " Double_t A2 = (*goftest_1)(ROOT::Math::GoFTest::kAD2s, \"t\");     // Issues error message\n",
    " Double_t pvalueKS = (*goftest_1)(ROOT::Math::GoFTest::kKS2s);    // Issues error message\n",
    " assert(A2 == pvalueKS);\n",
    "#endif\n",
    "\n",
    "TPaveText* pt1 = new TPaveText(0.58, 0.6, 0.88, 0.80, \"brNDC\");\n",
    "Char_t str1[50];\n",
    "sprintf(str1, \"p-value for A-D 1-smp test: %f\", pvalueAD_1);\n",
    "pt1->AddText(str1);\n",
    "pt1->SetFillColor(18);\n",
    "pt1->SetTextFont(20);\n",
    "pt1->SetTextColor(4);\n",
    "Char_t str2[50];\n",
    "sprintf(str2, \"p-value for K-S 1-smp test: %f\", pvalueKS_1);\n",
    "pt1->AddText(str2);\n",
    "pt1->Draw();"
   ]
  },
  {
   "cell_type": "markdown",
   "metadata": {},
   "source": [
    "------------------------------------------------------------------------\n",
    " Case 2: Create Gaussian random samples"
   ]
  },
  {
   "cell_type": "code",
   "execution_count": 14,
   "metadata": {
    "collapsed": false
   },
   "outputs": [],
   "source": [
    "  \n",
    "UInt_t nEvents2 = 2000;\n",
    "\n",
    "Double_t* sample2 = new Double_t[nEvents2];\n",
    "\n",
    "TH1D* h2smps_1 = new TH1D(\"h2smps_1\", \"Gaussian distribution histograms\", 100, 0, 500);\n",
    "h2smps_1->SetStats(kFALSE);\n",
    "\n",
    "TH1D* h2smps_2 = new TH1D(\"h2smps_2\", \"Gaussian distribution histograms\", 100, 0, 500);\n",
    "h2smps_2->SetStats(kFALSE);\n",
    "\n",
    "TRandom3 r;\n",
    "for (UInt_t i = 0; i < nEvents1; ++i) {\n",
    "   Double_t data = r.Gaus(300, 50);\n",
    "   sample1[i] = data;\n",
    "   h2smps_1->Fill(data);\n",
    "}\n",
    "h2smps_1->Scale(1. / nEvents1, \"width\");\n",
    "c->cd(2);\n",
    "h2smps_1->Draw();\n",
    "h2smps_1->SetLineColor(kBlue);\n",
    "\n",
    "for (UInt_t i = 0; i < nEvents2; ++i) {\n",
    "   Double_t data = r.Gaus(300, 50);\n",
    "   sample2[i] = data;\n",
    "   h2smps_2->Fill(data);\n",
    "}\n",
    "h2smps_2->Scale(1. / nEvents2, \"width\");\n",
    "h2smps_2->Draw(\"SAME\");\n",
    "h2smps_2->SetLineColor(kRed);"
   ]
  },
  {
   "cell_type": "markdown",
   "metadata": {},
   "source": [
    "-----------------------------------------\n",
    " Create GoFTest object"
   ]
  },
  {
   "cell_type": "code",
   "execution_count": 15,
   "metadata": {
    "collapsed": false
   },
   "outputs": [],
   "source": [
    "ROOT::Math::GoFTest* goftest_2 = new ROOT::Math::GoFTest(nEvents1, sample1, nEvents2, sample2);\n",
    "\n",
    "   //----------------------------------------------------"
   ]
  },
  {
   "cell_type": "markdown",
   "metadata": {},
   "source": [
    "Possible calls for the anderson - darlingtest test \n",
    " a) Returning the Anderson-Darling standardized test statistic"
   ]
  },
  {
   "cell_type": "code",
   "execution_count": 16,
   "metadata": {
    "collapsed": false
   },
   "outputs": [],
   "source": [
    "A2_1 = goftest_2->AndersonDarling2SamplesTest(\"t\");\n",
    "A2_2 = (*goftest_2)(ROOT::Math::GoFTest::kAD2s, \"t\");\n",
    "assert(A2_1 == A2_2);"
   ]
  },
  {
   "cell_type": "markdown",
   "metadata": {},
   "source": [
    "B) returning the p-value for the anderson-darling test statistic "
   ]
  },
  {
   "cell_type": "code",
   "execution_count": 17,
   "metadata": {
    "collapsed": false
   },
   "outputs": [],
   "source": [
    "pvalueAD_1 = goftest_2-> AndersonDarling2SamplesTest(); // p-value is the default choice\n",
    "pvalueAD_2 = (*goftest_2)(ROOT::Math::GoFTest::kAD2s);  // p-value is the default choices\n",
    "assert(pvalueAD_1 == pvalueAD_2);"
   ]
  },
  {
   "cell_type": "markdown",
   "metadata": {},
   "source": [
    "--------------------------------------------------\n",
    " Possible calls for the Kolmogorov - Smirnov test \n",
    " a) Returning the Kolmogorov-Smirnov standardized test statistic "
   ]
  },
  {
   "cell_type": "code",
   "execution_count": 18,
   "metadata": {
    "collapsed": false
   },
   "outputs": [],
   "source": [
    "Dn_1 = goftest_2-> KolmogorovSmirnov2SamplesTest(\"t\");\n",
    "Dn_2 = (*goftest_2)(ROOT::Math::GoFTest::kKS2s, \"t\");\n",
    "assert(Dn_1 == Dn_2);"
   ]
  },
  {
   "cell_type": "markdown",
   "metadata": {},
   "source": [
    "B) returning the p-value for the kolmogorov-smirnov test statistic "
   ]
  },
  {
   "cell_type": "code",
   "execution_count": 19,
   "metadata": {
    "collapsed": false
   },
   "outputs": [],
   "source": [
    "pvalueKS_1 = goftest_2-> KolmogorovSmirnov2SamplesTest();\n",
    "pvalueKS_2 = (*goftest_2)(ROOT::Math::GoFTest::kKS2s);\n",
    "assert(pvalueKS_1 == pvalueKS_2);\n",
    "\n",
    "#ifdef TEST_ERROR_MESSAGE\n",
    "/* Valid but incorrect calls for the 1-sample methods of the 2-samples constucted goftest_2 */\n",
    "A2 = (*goftest_2)(ROOT::Math::GoFTest::kAD, \"t\");     // Issues error message\n",
    "pvalueKS = (*goftest_2)(ROOT::Math::GoFTest::kKS);    // Issues error message\n",
    "assert(A2 == pvalueKS);\n",
    "#endif\n",
    "\n",
    "TPaveText* pt2 = new TPaveText(0.13, 0.6, 0.43, 0.8, \"brNDC\");\n",
    "sprintf(str1, \"p-value for A-D 2-smps test: %f\", pvalueAD_1);\n",
    "pt2->AddText(str1);\n",
    "pt2->SetFillColor(18);\n",
    "pt2->SetTextFont(20);\n",
    "pt2->SetTextColor(4);\n",
    "sprintf(str2, \"p-value for K-S 2-smps test: %f\", pvalueKS_1);\n",
    "pt2-> AddText(str2);\n",
    "pt2-> Draw();"
   ]
  },
  {
   "cell_type": "markdown",
   "metadata": {},
   "source": [
    "------------------------------------------------------------------------\n",
    " Case 3: Create Landau random sample"
   ]
  },
  {
   "cell_type": "code",
   "execution_count": 20,
   "metadata": {
    "collapsed": false
   },
   "outputs": [],
   "source": [
    "UInt_t nEvents3 = 1000;\n",
    "\n",
    "Double_t* sample3 = new Double_t[nEvents3];\n",
    "for (UInt_t i = 0; i < nEvents3; ++i) {\n",
    "   Double_t data = r.Landau();\n",
    "   sample3[i] = data;\n",
    "}"
   ]
  },
  {
   "cell_type": "markdown",
   "metadata": {},
   "source": [
    "------------------------------------------\n",
    " Create GoFTest objects\n",
    "\n",
    " Possible constructors for the user input distribution "
   ]
  },
  {
   "cell_type": "markdown",
   "metadata": {},
   "source": [
    "A) user input pdf "
   ]
  },
  {
   "cell_type": "code",
   "execution_count": 21,
   "metadata": {
    "collapsed": false
   },
   "outputs": [],
   "source": [
    "ROOT::Math::Functor1D f(&landau);\n",
    "double minimum = 3*TMath::MinElement(nEvents3, sample3);\n",
    "double maximum = 3*TMath::MaxElement(nEvents3, sample3);\n",
    "ROOT::Math::GoFTest* goftest_3a = new ROOT::Math::GoFTest(nEvents3, sample3, f,  ROOT::Math::GoFTest::kPDF, minimum,maximum);  // need to specify am interval"
   ]
  },
  {
   "cell_type": "markdown",
   "metadata": {},
   "source": [
    "B) user input cdf "
   ]
  },
  {
   "cell_type": "code",
   "execution_count": 22,
   "metadata": {
    "collapsed": false
   },
   "outputs": [],
   "source": [
    "ROOT::Math::Functor1D fI(&TMath::LandauI);\n",
    "ROOT::Math::GoFTest* goftest_3b = new ROOT::Math::GoFTest(nEvents3, sample3, fI, ROOT::Math::GoFTest::kCDF,minimum,maximum);"
   ]
  },
  {
   "cell_type": "markdown",
   "metadata": {},
   "source": [
    "Returning the p-value for the anderson-darling test statistic "
   ]
  },
  {
   "cell_type": "code",
   "execution_count": 23,
   "metadata": {
    "collapsed": false
   },
   "outputs": [],
   "source": [
    "pvalueAD_1 = goftest_3a-> AndersonDarlingTest(); // p-value is the default choice\n",
    "\n",
    "pvalueAD_2 = (*goftest_3b)(); // p-value and Anderson - Darling Test are the default choices"
   ]
  },
  {
   "cell_type": "markdown",
   "metadata": {},
   "source": [
    "Checking consistency between both tests "
   ]
  },
  {
   "cell_type": "code",
   "execution_count": 24,
   "metadata": {
    "collapsed": false
   },
   "outputs": [
    {
     "name": "stdout",
     "output_type": "stream",
     "text": [
      " \n",
      "\n",
      "TEST with LANDAU distribution:\tOK ( pvalues = 0.777278  )\n"
     ]
    }
   ],
   "source": [
    "std::cout << \" \\n\\nTEST with LANDAU distribution:\\t\";\n",
    "if (TMath::Abs(pvalueAD_1 - pvalueAD_2) > 1.E-1 * pvalueAD_2) {\n",
    "   std::cout << \"FAILED \" << std::endl;\n",
    "   Error(\"goftest\",\"Error in comparing testing using Landau and Landau CDF\");\n",
    "   std::cerr << \" pvalues are \" << pvalueAD_1 << \"  \" << pvalueAD_2 << std::endl;\n",
    "}\n",
    "else\n",
    "   std::cout << \"OK ( pvalues = \" << pvalueAD_2 << \"  )\" << std::endl;"
   ]
  },
  {
   "cell_type": "markdown",
   "metadata": {},
   "source": [
    "Draw all canvases "
   ]
  },
  {
   "cell_type": "code",
   "execution_count": 25,
   "metadata": {
    "collapsed": false
   },
   "outputs": [
    {
     "data": {
      "image/png": "[encoded data removed]",
      "text/plain": [
       "<IPython.core.display.Image object>"
      ]
     },
     "metadata": {},
     "output_type": "display_data"
    }
   ],
   "source": [
    "gROOT->GetListOfCanvases()->Draw()"
   ]
  }
 ],
 "metadata": {
  "kernelspec": {
   "display_name": "ROOT C++",
   "language": "c++",
   "name": "root"
  },
  "language_info": {
   "codemirror_mode": "text/x-c++src",
   "file_extension": ".C",
   "mimetype": " text/x-c++src",
   "name": "c++"
  }
 },
 "nbformat": 4,
 "nbformat_minor": 0
}
