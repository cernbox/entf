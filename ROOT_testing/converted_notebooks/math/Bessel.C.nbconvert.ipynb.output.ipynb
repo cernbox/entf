{
 "cells": [
  {
   "cell_type": "markdown",
   "metadata": {},
   "source": [
    "#  Bessel\n",
    "<hr style=\"border-top-width: 4px; border-top-color: #34609b;\">\n",
    "Show the different kinds of Bessel functions available in ROOT\n",
    "To execute the macro type in:\n",
    "\n",
    "```cpp\n",
    "root[0] .x Bessel.C\n",
    "```\n",
    "\n",
    "It will create one canvas with the representation\n",
    "of the  cylindrical and spherical Bessel functions\n",
    "regular and modified\n",
    "\n",
    "\n",
    "\n",
    "\n",
    "**Author:** Magdalena Slawinska  \n",
    "<i><small>This notebook tutorial was automatically generated with <a href= \"https://github.com/root-mirror/root/blob/master/documentation/doxygen/converttonotebook.py\">ROOTBOOK-izer (Beta)</a> from the macro found in the ROOT repository  on Thursday, January 19, 2017 at 04:31 PM.</small></i>"
   ]
  },
  {
   "cell_type": "code",
   "execution_count": 1,
   "metadata": {
    "collapsed": false
   },
   "outputs": [],
   "source": [
    "%%cpp -d\n",
    "#include \"TMath.h\"\n",
    "#include \"TF1.h\"\n",
    "#include \"TCanvas.h\"\n",
    "\n",
    "#include <Riostream.h>\n",
    "#include \"TLegend.h\"\n",
    "#include \"TLegendEntry.h\"\n",
    "\n",
    "#include \"Math/IFunction.h\"\n",
    "#include <cmath>\n",
    "#include \"TSystem.h\"\n",
    "#include \"TAxis.h\"\n",
    "#include \"TPaveLabel.h\""
   ]
  },
  {
   "cell_type": "code",
   "execution_count": 2,
   "metadata": {
    "collapsed": false
   },
   "outputs": [],
   "source": [
    "gSystem->Load(\"libMathMore\");\n",
    "\n",
    "TCanvas *DistCanvas = new TCanvas(\"DistCanvas\", \"Bessel functions example\", 10, 10, 800, 600);\n",
    "DistCanvas->SetFillColor(17);\n",
    "DistCanvas->Divide(2, 2);\n",
    "DistCanvas->cd(1);\n",
    "gPad->SetGrid();\n",
    "gPad->SetFrameFillColor(19);\n",
    "TLegend *leg = new TLegend(0.75, 0.7, 0.89, 0.89);\n",
    "\n",
    "int n = 5; //number of functions in each pad"
   ]
  },
  {
   "cell_type": "markdown",
   "metadata": {},
   "source": [
    "Drawing the set of bessel j functions"
   ]
  },
  {
   "cell_type": "code",
   "execution_count": 3,
   "metadata": {
    "collapsed": false
   },
   "outputs": [],
   "source": [
    "TF1* JBessel[5];\n",
    "for(int nu = 0; nu < n; nu++)\n",
    "{\n",
    "   JBessel[nu]= new TF1(\"J_0\", \"ROOT::Math::cyl_bessel_j([0],x)\", 0, 10);\n",
    "   JBessel[nu]->SetParameters(nu, 0.0);\n",
    "   JBessel[nu]->SetTitle(\"\"); //Bessel J functions\");\n",
    "   JBessel[nu]->SetLineStyle(1);\n",
    "   JBessel[nu]->SetLineWidth(3);\n",
    "   JBessel[nu]->SetLineColor(nu+1);\n",
    "}\n",
    "JBessel[0]->TF1::GetXaxis()->SetTitle(\"x\");\n",
    "JBessel[0]->GetXaxis()->SetTitleSize(0.06);\n",
    "JBessel[0]->GetXaxis()->SetTitleOffset(.7);"
   ]
  },
  {
   "cell_type": "markdown",
   "metadata": {},
   "source": [
    "Setting the title in a label style"
   ]
  },
  {
   "cell_type": "code",
   "execution_count": 4,
   "metadata": {
    "collapsed": false
   },
   "outputs": [],
   "source": [
    "TPaveLabel *p1 = new TPaveLabel(.0,.90 , (.0+.50),(.90+.10) , \"Bessel J functions\", \"NDC\");\n",
    "p1->SetFillColor(0);\n",
    "p1->SetTextFont(22);\n",
    "p1->SetTextColor(kBlack);"
   ]
  },
  {
   "cell_type": "markdown",
   "metadata": {},
   "source": [
    "Setting the legend"
   ]
  },
  {
   "cell_type": "code",
   "execution_count": 5,
   "metadata": {
    "collapsed": false
   },
   "outputs": [],
   "source": [
    "leg->AddEntry(JBessel[0]->DrawCopy(), \" J_0(x)\", \"l\");\n",
    "leg->AddEntry(JBessel[1]->DrawCopy(\"same\"), \" J_1(x)\", \"l\");\n",
    "leg->AddEntry(JBessel[2]->DrawCopy(\"same\"), \" J_2(x)\", \"l\");\n",
    "leg->AddEntry(JBessel[3]->DrawCopy(\"same\"), \" J_3(x)\", \"l\");\n",
    "leg->AddEntry(JBessel[4]->DrawCopy(\"same\"), \" J_4(x)\", \"l\");\n",
    "\n",
    "leg->Draw();\n",
    "p1->Draw();"
   ]
  },
  {
   "cell_type": "markdown",
   "metadata": {},
   "source": [
    "------------------------------------------------"
   ]
  },
  {
   "cell_type": "code",
   "execution_count": 6,
   "metadata": {
    "collapsed": false
   },
   "outputs": [],
   "source": [
    "DistCanvas->cd(2);\n",
    "gPad->SetGrid();\n",
    "gPad->SetFrameFillColor(19);\n",
    "\n",
    "TLegend *leg2 = new TLegend(0.75, 0.7, 0.89, 0.89);"
   ]
  },
  {
   "cell_type": "markdown",
   "metadata": {},
   "source": [
    "------------------------------------------------\n",
    "Drawing Bessel k"
   ]
  },
  {
   "cell_type": "code",
   "execution_count": 7,
   "metadata": {
    "collapsed": false
   },
   "outputs": [],
   "source": [
    "TF1* KBessel[5];\n",
    "for(int nu = 0; nu < n; nu++){\n",
    "   KBessel[nu]= new TF1(\"J_0\", \"ROOT::Math::cyl_bessel_k([0],x)\", 0, 10);\n",
    "   KBessel[nu]->SetParameters(nu, 0.0);\n",
    "   KBessel[nu]->SetTitle(\"Bessel K functions\");\n",
    "   KBessel[nu]->SetLineStyle(1);\n",
    "   KBessel[nu]->SetLineWidth(3);\n",
    "   KBessel[nu]->SetLineColor(nu+1);\n",
    "}\n",
    "KBessel[0]->GetXaxis()->SetTitle(\"x\");\n",
    "KBessel[0]->GetXaxis()->SetTitleSize(0.06);\n",
    "KBessel[0]->GetXaxis()->SetTitleOffset(.7);"
   ]
  },
  {
   "cell_type": "markdown",
   "metadata": {},
   "source": [
    "Setting title"
   ]
  },
  {
   "cell_type": "code",
   "execution_count": 8,
   "metadata": {
    "collapsed": false
   },
   "outputs": [],
   "source": [
    "TPaveLabel *p2 = new TPaveLabel(.0,.90 , (.0+.50),(.90+.10) , \"Bessel K functions\", \"NDC\");\n",
    "p2->SetFillColor(0);\n",
    "p2->SetTextFont(22);\n",
    "p2->SetTextColor(kBlack);"
   ]
  },
  {
   "cell_type": "markdown",
   "metadata": {},
   "source": [
    "Setting legend"
   ]
  },
  {
   "cell_type": "code",
   "execution_count": 9,
   "metadata": {
    "collapsed": false
   },
   "outputs": [],
   "source": [
    "leg2->AddEntry(KBessel[0]->DrawCopy(), \" K_0(x)\", \"l\");\n",
    "leg2->AddEntry(KBessel[1]->DrawCopy(\"same\"), \" K_1(x)\", \"l\");\n",
    "leg2->AddEntry(KBessel[2]->DrawCopy(\"same\"), \" K_2(x)\", \"l\");\n",
    "leg2->AddEntry(KBessel[3]->DrawCopy(\"same\"), \" K_3(x)\", \"l\");\n",
    "leg2->AddEntry(KBessel[4]->DrawCopy(\"same\"), \" K_4(x)\", \"l\");\n",
    "leg2->Draw();\n",
    "p2->Draw();"
   ]
  },
  {
   "cell_type": "markdown",
   "metadata": {},
   "source": [
    "------------------------------------------------"
   ]
  },
  {
   "cell_type": "code",
   "execution_count": 10,
   "metadata": {
    "collapsed": false
   },
   "outputs": [],
   "source": [
    "DistCanvas->cd(3);\n",
    "gPad->SetGrid();\n",
    "gPad->SetFrameFillColor(19);\n",
    "TLegend *leg3 = new TLegend(0.75, 0.7, 0.89, 0.89);"
   ]
  },
  {
   "cell_type": "markdown",
   "metadata": {},
   "source": [
    "------------------------------------------------\n",
    "Drawing Bessel i"
   ]
  },
  {
   "cell_type": "code",
   "execution_count": 11,
   "metadata": {
    "collapsed": false
   },
   "outputs": [],
   "source": [
    "TF1* iBessel[5];\n",
    "for(int nu = 0; nu <= 4; nu++){\n",
    "   iBessel[nu]= new TF1(\"J_0\", \"ROOT::Math::cyl_bessel_i([0],x)\", 0, 10);\n",
    "   iBessel[nu]->SetParameters(nu, 0.0);\n",
    "   iBessel[nu]->SetTitle(\"Bessel I functions\");\n",
    "   iBessel[nu]->SetLineStyle(1);\n",
    "   iBessel[nu]->SetLineWidth(3);\n",
    "   iBessel[nu]->SetLineColor(nu+1);\n",
    "}\n",
    "\n",
    "iBessel[0]->GetXaxis()->SetTitle(\"x\");\n",
    "iBessel[0]->GetXaxis()->SetTitleSize(0.06);\n",
    "iBessel[0]->GetXaxis()->SetTitleOffset(.7);"
   ]
  },
  {
   "cell_type": "markdown",
   "metadata": {},
   "source": [
    "Setting title"
   ]
  },
  {
   "cell_type": "code",
   "execution_count": 12,
   "metadata": {
    "collapsed": false
   },
   "outputs": [],
   "source": [
    "TPaveLabel *p3 = new TPaveLabel(.0,.90 , (.0+.50),(.90+.10) ,\"Bessel I functions\", \"NDC\");\n",
    "p3->SetFillColor(0);\n",
    "p3->SetTextFont(22);\n",
    "p3->SetTextColor(kBlack);"
   ]
  },
  {
   "cell_type": "markdown",
   "metadata": {},
   "source": [
    "Setting legend"
   ]
  },
  {
   "cell_type": "code",
   "execution_count": 13,
   "metadata": {
    "collapsed": false
   },
   "outputs": [],
   "source": [
    "leg3->AddEntry(iBessel[0]->DrawCopy(), \" I_0\", \"l\");\n",
    "leg3->AddEntry(iBessel[1]->DrawCopy(\"same\"), \" I_1(x)\", \"l\");\n",
    "leg3->AddEntry(iBessel[2]->DrawCopy(\"same\"), \" I_2(x)\", \"l\");\n",
    "leg3->AddEntry(iBessel[3]->DrawCopy(\"same\"), \" I_3(x)\", \"l\");\n",
    "leg3->AddEntry(iBessel[4]->DrawCopy(\"same\"), \" I_4(x)\", \"l\");\n",
    "leg3->Draw();\n",
    "p3->Draw();"
   ]
  },
  {
   "cell_type": "markdown",
   "metadata": {},
   "source": [
    "------------------------------------------------"
   ]
  },
  {
   "cell_type": "code",
   "execution_count": 14,
   "metadata": {
    "collapsed": false
   },
   "outputs": [],
   "source": [
    "DistCanvas->cd(4);\n",
    "gPad->SetGrid();\n",
    "gPad->SetFrameFillColor(19);\n",
    "TLegend *leg4 = new TLegend(0.75, 0.7, 0.89, 0.89);"
   ]
  },
  {
   "cell_type": "markdown",
   "metadata": {},
   "source": [
    "------------------------------------------------\n",
    "Drawing sph_bessel"
   ]
  },
  {
   "cell_type": "code",
   "execution_count": 15,
   "metadata": {
    "collapsed": false
   },
   "outputs": [],
   "source": [
    "TF1* jBessel[5];\n",
    "for(int nu = 0; nu <= 4; nu++){\n",
    "   jBessel[nu]= new TF1(\"J_0\", \"ROOT::Math::sph_bessel([0],x)\", 0, 10);\n",
    "   jBessel[nu]->SetParameters(nu, 0.0);\n",
    "   jBessel[nu]->SetTitle(\"Bessel j functions\");\n",
    "   jBessel[nu]->SetLineStyle(1);\n",
    "   jBessel[nu]->SetLineWidth(3);\n",
    "   jBessel[nu]->SetLineColor(nu+1);\n",
    "}\n",
    "jBessel[0]->GetXaxis()->SetTitle(\"x\");\n",
    "jBessel[0]->GetXaxis()->SetTitleSize(0.06);\n",
    "jBessel[0]->GetXaxis()->SetTitleOffset(.7);"
   ]
  },
  {
   "cell_type": "markdown",
   "metadata": {},
   "source": [
    "Setting title"
   ]
  },
  {
   "cell_type": "code",
   "execution_count": 16,
   "metadata": {
    "collapsed": false
   },
   "outputs": [],
   "source": [
    "TPaveLabel *p4 = new TPaveLabel(.0,.90 , (.0+.50),(.90+.10) ,\"Bessel j functions\", \"NDC\");\n",
    "p4->SetFillColor(0);\n",
    "p4->SetTextFont(22);\n",
    "p4->SetTextColor(kBlack);"
   ]
  },
  {
   "cell_type": "markdown",
   "metadata": {},
   "source": [
    "Setting legend"
   ]
  },
  {
   "cell_type": "code",
   "execution_count": 17,
   "metadata": {
    "collapsed": false
   },
   "outputs": [],
   "source": [
    "leg4->AddEntry(jBessel[0]->DrawCopy(), \" j_0(x)\", \"l\");\n",
    "leg4->AddEntry(jBessel[1]->DrawCopy(\"same\"), \" j_1(x)\", \"l\");\n",
    "leg4->AddEntry(jBessel[2]->DrawCopy(\"same\"), \" j_2(x)\", \"l\");\n",
    "leg4->AddEntry(jBessel[3]->DrawCopy(\"same\"), \" j_3(x)\", \"l\");\n",
    "leg4->AddEntry(jBessel[4]->DrawCopy(\"same\"), \" j_4(x)\", \"l\");\n",
    "\n",
    "leg4->Draw();\n",
    "p4->Draw();\n",
    "\n",
    "DistCanvas->cd();"
   ]
  },
  {
   "cell_type": "markdown",
   "metadata": {},
   "source": [
    "Draw all canvases "
   ]
  },
  {
   "cell_type": "code",
   "execution_count": 18,
   "metadata": {
    "collapsed": false
   },
   "outputs": [
    {
     "data": {
      "image/png": "[encoded data removed]",
      "text/plain": [
       "<IPython.core.display.Image object>"
      ]
     },
     "metadata": {},
     "output_type": "display_data"
    }
   ],
   "source": [
    "gROOT->GetListOfCanvases()->Draw()"
   ]
  }
 ],
 "metadata": {
  "kernelspec": {
   "display_name": "ROOT C++",
   "language": "c++",
   "name": "root"
  },
  "language_info": {
   "codemirror_mode": "text/x-c++src",
   "file_extension": ".C",
   "mimetype": " text/x-c++src",
   "name": "c++"
  }
 },
 "nbformat": 4,
 "nbformat_minor": 0
}
