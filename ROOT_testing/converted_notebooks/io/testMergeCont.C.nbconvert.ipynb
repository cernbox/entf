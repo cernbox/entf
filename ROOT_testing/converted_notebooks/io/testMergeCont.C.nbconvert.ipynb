{
 "cells": [
  {
   "cell_type": "markdown",
   "metadata": {},
   "source": [
    "# Test Merge Cont\n",
    "<hr style=\"border-top-width: 4px; border-top-color: #34609b;\">\n",
    "Macro demonstrating the merging of containers.\n",
    "\n",
    "\n",
    "\n",
    "**Author:** The Root Team  \n",
    "<i><small>This notebook tutorial was automatically generated with <a href= \"https://github.com/root-mirror/root/blob/master/documentation/doxygen/converttonotebook.py\">ROOTBOOK-izer (Beta)</a> from the macro found in the ROOT repository  on Thursday, January 19, 2017 at 04:31 PM.</small></i>"
   ]
  },
  {
   "cell_type": "code",
   "execution_count": 1,
   "metadata": {
    "collapsed": false
   },
   "outputs": [
    {
     "name": "stdout",
     "output_type": "stream",
     "text": [
      "\u001b[?1034h"
     ]
    }
   ],
   "source": [
    "TFile *f;"
   ]
  },
  {
   "cell_type": "markdown",
   "metadata": {},
   "source": [
    " A helper function is created: "
   ]
  },
  {
   "cell_type": "code",
   "execution_count": 2,
   "metadata": {
    "collapsed": false
   },
   "outputs": [],
   "source": [
    "%%cpp -d\n",
    "TSeqCollection *GetCollection()\n",
    "{\n",
    "   TObject *obj;\n",
    "#ifndef ClingWorkAroundMissingDynamicScope\n",
    "# define ClingWorkAroundMissingDynamicScope\n",
    "#endif\n",
    "   f = TFile::Open(\"hsimple.root\");\n",
    "   if( !f ) {\n",
    "#ifdef ClingWorkAroundMissingDynamicScope\n",
    "     f = (TFile*)gROOT->ProcessLine(\"hsimple(1);\");\n",
    "#else\n",
    "     f = hsimple(1);\n",
    "#endif\n",
    "   }\n",
    "   gROOT->cd();\n",
    "   TList *l0 = new TList();\n",
    "   TList *l01 = new TList();\n",
    "   TH1 *hpx = (TH1*)f->Get(\"hpx\");\n",
    "   printf(\"Adding hpx: %d entries\\n\", (int)hpx->GetEntries());\n",
    "   l01->Add(hpx);\n",
    "   TH1 *hpxpy = (TH1*)f->Get(\"hpxpy\");\n",
    "   l01->Add(hpxpy);\n",
    "   TH1 *hprof = (TH1*)f->Get(\"hprof\");\n",
    "   l0->Add(hprof);\n",
    "   l0->Add(l01);\n",
    "   return l0;\n",
    "}"
   ]
  },
  {
   "cell_type": "code",
   "execution_count": 3,
   "metadata": {
    "collapsed": false
   },
   "outputs": [
    {
     "name": "stdout",
     "output_type": "stream",
     "text": [
      "Adding hpx: 25000 entries\n",
      "Adding hpx: 25000 entries\n",
      "Adding hpx: 25000 entries\n",
      "Adding hpx: 25000 entries\n",
      "Adding hpx: 25000 entries\n",
      "Adding hpx: 25000 entries\n",
      "Adding hpx: 25000 entries\n",
      "Adding hpx: 25000 entries\n",
      "Adding hpx: 25000 entries\n",
      "Adding hpx: 25000 entries\n",
      "Adding hpx: 25000 entries\n",
      "============================================\n",
      "Total  hpx: 275000 entries\n"
     ]
    },
    {
     "name": "stderr",
     "output_type": "stream",
     "text": [
      "Info in <TCanvas::MakeDefCanvas>:  created default TCanvas with name c1\n"
     ]
    }
   ],
   "source": [
    "TString tutdir = gROOT->GetTutorialsDir();\n",
    "gROOT->LoadMacro(tutdir+\"/hsimple.C\");\n",
    "TList *list1 = (TList *)GetCollection();\n",
    "TList *inputs = new TList();\n",
    "for (Int_t i=0; i<10; i++) {\n",
    "   inputs->AddAt(GetCollection(),0);\n",
    "   list1->Merge(inputs);\n",
    "   inputs->Delete();\n",
    "   f->Close();\n",
    "}\n",
    "delete inputs;\n",
    "TH1F *hpx = (TH1F*)(((TList*)list1->At(1))->At(0));\n",
    "printf(\"============================================\\n\");\n",
    "printf(\"Total  hpx: %d entries\\n\", (int)hpx->GetEntries());\n",
    "hpx->Draw();\n",
    "list1->Delete();\n",
    "delete list1;"
   ]
  },
  {
   "cell_type": "markdown",
   "metadata": {},
   "source": [
    "Draw all canvases "
   ]
  },
  {
   "cell_type": "code",
   "execution_count": 4,
   "metadata": {
    "collapsed": false
   },
   "outputs": [
    {
     "data": {
      "image/png": "[encoded data removed]",
      "text/plain": [
       "<IPython.core.display.Image object>"
      ]
     },
     "metadata": {},
     "output_type": "display_data"
    }
   ],
   "source": [
    "gROOT->GetListOfCanvases()->Draw()"
   ]
  }
 ],
 "metadata": {
  "kernelspec": {
   "display_name": "ROOT C++",
   "language": "c++",
   "name": "root"
  },
  "language_info": {
   "codemirror_mode": "text/x-c++src",
   "file_extension": ".C",
   "mimetype": " text/x-c++src",
   "name": "c++"
  }
 },
 "nbformat": 4,
 "nbformat_minor": 0
}
