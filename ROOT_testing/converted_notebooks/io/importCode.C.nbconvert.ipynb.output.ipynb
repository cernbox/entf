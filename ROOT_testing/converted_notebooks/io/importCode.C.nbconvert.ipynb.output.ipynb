{
 "cells": [
  {
   "cell_type": "markdown",
   "metadata": {},
   "source": [
    "# Import Code\n",
    "<hr style=\"border-top-width: 4px; border-top-color: #34609b;\">\n",
    "Example of script showing how to create a ROOT file with subdirectories.\n",
    "The script scans a given directory tree and recreates the same structure in the ROOT file.\n",
    "All source files of type .h,cxx,c,dat,py are imported as TMacro objects.\n",
    "See also the other tutorial readCode.C\n",
    "\n",
    "\n",
    "\n",
    "**Author:** Rene Brun  \n",
    "<i><small>This notebook tutorial was automatically generated with <a href= \"https://github.com/root-mirror/root/blob/master/documentation/doxygen/converttonotebook.py\">ROOTBOOK-izer (Beta)</a> from the macro found in the ROOT repository  on Thursday, January 19, 2017 at 04:30 PM.</small></i>"
   ]
  },
  {
   "cell_type": "code",
   "execution_count": 1,
   "metadata": {
    "collapsed": false
   },
   "outputs": [],
   "source": [
    "%%cpp -d\n",
    "#include \"TFile.h\"\n",
    "#include \"TSystem.h\"\n",
    "#include \"TMacro.h\""
   ]
  },
  {
   "cell_type": "markdown",
   "metadata": {},
   "source": [
    " A helper function is created: "
   ]
  },
  {
   "cell_type": "code",
   "execution_count": 2,
   "metadata": {
    "collapsed": false
   },
   "outputs": [],
   "source": [
    "%%cpp -d\n",
    "void importdir(const char *dirname) {\n",
    "   char *slash = (char*)strrchr(dirname,'/');\n",
    "   char *locdir;\n",
    "   if (slash) locdir = slash+1;\n",
    "   else       locdir = (char*)dirname;\n",
    "   printf(\"processing dir %s\\n\",dirname);\n",
    "   TDirectory *savdir = gDirectory;\n",
    "   TDirectory *adir = savdir->mkdir(locdir);\n",
    "   adir->cd();\n",
    "   void *dirp = gSystem->OpenDirectory(dirname);\n",
    "   if (!dirp) return;\n",
    "   char *direntry;\n",
    "   Long_t id, size,flags,modtime;\n",
    "   //loop on all entries of this directory\n",
    "   while ((direntry=(char*)gSystem->GetDirEntry(dirp))) {\n",
    "      TString afile = Form(\"%s/%s\",dirname,direntry);\n",
    "      gSystem->GetPathInfo(afile,&id,&size,&flags,&modtime);\n",
    "      if (direntry[0] == '.')             continue; //forget the \".\" and \"..\" special cases\n",
    "      if (!strcmp(direntry,\"CVS\"))        continue; //forget some special directories\n",
    "      if (!strcmp(direntry,\"htmldoc\"))    continue;\n",
    "      if (strstr(dirname,\"root/include\")) continue;\n",
    "      if (strstr(direntry,\"G__\"))         continue;\n",
    "      if (strstr(direntry,\".c\")    ||\n",
    "          strstr(direntry,\".h\")    ||\n",
    "          strstr(direntry,\".dat\")  ||\n",
    "          strstr(direntry,\".py\")   ||\n",
    "          strstr(direntry,\".C\")) {\n",
    "         TMacro *m = new TMacro(afile);\n",
    "         m->Write(direntry);\n",
    "         delete m;\n",
    "      } else {\n",
    "         if (flags != 3)                     continue; //must be a directory\n",
    "         //we have found a valid sub-directory. Process it\n",
    "         importdir(afile);\n",
    "     }\n",
    "  }\n",
    "  gSystem->FreeDirectory(dirp);\n",
    "  savdir->cd();\n",
    "}"
   ]
  },
  {
   "cell_type": "code",
   "execution_count": 3,
   "metadata": {
    "collapsed": false
   },
   "outputs": [
    {
     "name": "stdout",
     "output_type": "stream",
     "text": [
      "processing dir /cvmfs/sft.cern.ch/lcg/releases/ROOT/6.08.02-99084/x86_64-slc6-gcc49-opt/tutorials\n",
      "processing dir /cvmfs/sft.cern.ch/lcg/releases/ROOT/6.08.02-99084/x86_64-slc6-gcc49-opt/tutorials/multicore\n",
      "processing dir /cvmfs/sft.cern.ch/lcg/releases/ROOT/6.08.02-99084/x86_64-slc6-gcc49-opt/tutorials/thread\n",
      "processing dir /cvmfs/sft.cern.ch/lcg/releases/ROOT/6.08.02-99084/x86_64-slc6-gcc49-opt/tutorials/unuran\n",
      "processing dir /cvmfs/sft.cern.ch/lcg/releases/ROOT/6.08.02-99084/x86_64-slc6-gcc49-opt/tutorials/physics\n",
      "processing dir /cvmfs/sft.cern.ch/lcg/releases/ROOT/6.08.02-99084/x86_64-slc6-gcc49-opt/tutorials/gui\n"
     ]
    },
    {
     "name": "stdout",
     "output_type": "stream",
     "text": [
      "processing dir /cvmfs/sft.cern.ch/lcg/releases/ROOT/6.08.02-99084/x86_64-slc6-gcc49-opt/tutorials/hist\n",
      "processing dir /cvmfs/sft.cern.ch/lcg/releases/ROOT/6.08.02-99084/x86_64-slc6-gcc49-opt/tutorials/tmva\n",
      "processing dir /cvmfs/sft.cern.ch/lcg/releases/ROOT/6.08.02-99084/x86_64-slc6-gcc49-opt/tutorials/tmva/keras\n",
      "processing dir /cvmfs/sft.cern.ch/lcg/releases/ROOT/6.08.02-99084/x86_64-slc6-gcc49-opt/tutorials/tmva/data\n"
     ]
    },
    {
     "name": "stdout",
     "output_type": "stream",
     "text": [
      "processing dir /cvmfs/sft.cern.ch/lcg/releases/ROOT/6.08.02-99084/x86_64-slc6-gcc49-opt/tutorials/spectrum\n",
      "processing dir /cvmfs/sft.cern.ch/lcg/releases/ROOT/6.08.02-99084/x86_64-slc6-gcc49-opt/tutorials/eve\n",
      "processing dir /cvmfs/sft.cern.ch/lcg/releases/ROOT/6.08.02-99084/x86_64-slc6-gcc49-opt/tutorials/net\n"
     ]
    },
    {
     "name": "stdout",
     "output_type": "stream",
     "text": [
      "processing dir /cvmfs/sft.cern.ch/lcg/releases/ROOT/6.08.02-99084/x86_64-slc6-gcc49-opt/tutorials/http\n",
      "processing dir /cvmfs/sft.cern.ch/lcg/releases/ROOT/6.08.02-99084/x86_64-slc6-gcc49-opt/tutorials/r\n",
      "processing dir /cvmfs/sft.cern.ch/lcg/releases/ROOT/6.08.02-99084/x86_64-slc6-gcc49-opt/tutorials/mc\n",
      "processing dir /cvmfs/sft.cern.ch/lcg/releases/ROOT/6.08.02-99084/x86_64-slc6-gcc49-opt/tutorials/sql\n",
      "processing dir /cvmfs/sft.cern.ch/lcg/releases/ROOT/6.08.02-99084/x86_64-slc6-gcc49-opt/tutorials/roofit\n"
     ]
    },
    {
     "name": "stdout",
     "output_type": "stream",
     "text": [
      "processing dir /cvmfs/sft.cern.ch/lcg/releases/ROOT/6.08.02-99084/x86_64-slc6-gcc49-opt/tutorials/memstat\n",
      "processing dir /cvmfs/sft.cern.ch/lcg/releases/ROOT/6.08.02-99084/x86_64-slc6-gcc49-opt/tutorials/quadp\n",
      "processing dir /cvmfs/sft.cern.ch/lcg/releases/ROOT/6.08.02-99084/x86_64-slc6-gcc49-opt/tutorials/mlp\n",
      "processing dir /cvmfs/sft.cern.ch/lcg/releases/ROOT/6.08.02-99084/x86_64-slc6-gcc49-opt/tutorials/gl\n",
      "processing dir /cvmfs/sft.cern.ch/lcg/releases/ROOT/6.08.02-99084/x86_64-slc6-gcc49-opt/tutorials/image\n",
      "processing dir /cvmfs/sft.cern.ch/lcg/releases/ROOT/6.08.02-99084/x86_64-slc6-gcc49-opt/tutorials/io\n",
      "processing dir /cvmfs/sft.cern.ch/lcg/releases/ROOT/6.08.02-99084/x86_64-slc6-gcc49-opt/tutorials/fitsio\n",
      "processing dir /cvmfs/sft.cern.ch/lcg/releases/ROOT/6.08.02-99084/x86_64-slc6-gcc49-opt/tutorials/graphics\n"
     ]
    },
    {
     "name": "stdout",
     "output_type": "stream",
     "text": [
      "processing dir /cvmfs/sft.cern.ch/lcg/releases/ROOT/6.08.02-99084/x86_64-slc6-gcc49-opt/tutorials/v7\n",
      "processing dir /cvmfs/sft.cern.ch/lcg/releases/ROOT/6.08.02-99084/x86_64-slc6-gcc49-opt/tutorials/ruby\n",
      "processing dir /cvmfs/sft.cern.ch/lcg/releases/ROOT/6.08.02-99084/x86_64-slc6-gcc49-opt/tutorials/foam\n",
      "processing dir /cvmfs/sft.cern.ch/lcg/releases/ROOT/6.08.02-99084/x86_64-slc6-gcc49-opt/tutorials/cocoa\n",
      "processing dir /cvmfs/sft.cern.ch/lcg/releases/ROOT/6.08.02-99084/x86_64-slc6-gcc49-opt/tutorials/fit\n"
     ]
    },
    {
     "name": "stdout",
     "output_type": "stream",
     "text": [
      "processing dir /cvmfs/sft.cern.ch/lcg/releases/ROOT/6.08.02-99084/x86_64-slc6-gcc49-opt/tutorials/splot\n",
      "processing dir /cvmfs/sft.cern.ch/lcg/releases/ROOT/6.08.02-99084/x86_64-slc6-gcc49-opt/tutorials/fft\n",
      "processing dir /cvmfs/sft.cern.ch/lcg/releases/ROOT/6.08.02-99084/x86_64-slc6-gcc49-opt/tutorials/proof\n",
      "processing dir /cvmfs/sft.cern.ch/lcg/releases/ROOT/6.08.02-99084/x86_64-slc6-gcc49-opt/tutorials/roostats\n"
     ]
    },
    {
     "name": "stdout",
     "output_type": "stream",
     "text": [
      "processing dir /cvmfs/sft.cern.ch/lcg/releases/ROOT/6.08.02-99084/x86_64-slc6-gcc49-opt/tutorials/html\n",
      "processing dir /cvmfs/sft.cern.ch/lcg/releases/ROOT/6.08.02-99084/x86_64-slc6-gcc49-opt/tutorials/tree\n"
     ]
    },
    {
     "name": "stdout",
     "output_type": "stream",
     "text": [
      "processing dir /cvmfs/sft.cern.ch/lcg/releases/ROOT/6.08.02-99084/x86_64-slc6-gcc49-opt/tutorials/graphs\n",
      "processing dir /cvmfs/sft.cern.ch/lcg/releases/ROOT/6.08.02-99084/x86_64-slc6-gcc49-opt/tutorials/doc\n",
      "processing dir /cvmfs/sft.cern.ch/lcg/releases/ROOT/6.08.02-99084/x86_64-slc6-gcc49-opt/tutorials/doc/v532\n",
      "processing dir /cvmfs/sft.cern.ch/lcg/releases/ROOT/6.08.02-99084/x86_64-slc6-gcc49-opt/tutorials/doc/v528\n",
      "processing dir /cvmfs/sft.cern.ch/lcg/releases/ROOT/6.08.02-99084/x86_64-slc6-gcc49-opt/tutorials/doc/v600\n",
      "processing dir /cvmfs/sft.cern.ch/lcg/releases/ROOT/6.08.02-99084/x86_64-slc6-gcc49-opt/tutorials/doc/v602\n",
      "processing dir /cvmfs/sft.cern.ch/lcg/releases/ROOT/6.08.02-99084/x86_64-slc6-gcc49-opt/tutorials/doc/v534\n",
      "processing dir /cvmfs/sft.cern.ch/lcg/releases/ROOT/6.08.02-99084/x86_64-slc6-gcc49-opt/tutorials/doc/v530\n",
      "processing dir /cvmfs/sft.cern.ch/lcg/releases/ROOT/6.08.02-99084/x86_64-slc6-gcc49-opt/tutorials/matrix\n",
      "processing dir /cvmfs/sft.cern.ch/lcg/releases/ROOT/6.08.02-99084/x86_64-slc6-gcc49-opt/tutorials/pythia\n",
      "processing dir /cvmfs/sft.cern.ch/lcg/releases/ROOT/6.08.02-99084/x86_64-slc6-gcc49-opt/tutorials/math\n"
     ]
    },
    {
     "name": "stdout",
     "output_type": "stream",
     "text": [
      "processing dir /cvmfs/sft.cern.ch/lcg/releases/ROOT/6.08.02-99084/x86_64-slc6-gcc49-opt/tutorials/histfactory\n",
      "processing dir /cvmfs/sft.cern.ch/lcg/releases/ROOT/6.08.02-99084/x86_64-slc6-gcc49-opt/tutorials/xml\n",
      "processing dir /cvmfs/sft.cern.ch/lcg/releases/ROOT/6.08.02-99084/x86_64-slc6-gcc49-opt/tutorials/geom\n",
      "processing dir /cvmfs/sft.cern.ch/lcg/releases/ROOT/6.08.02-99084/x86_64-slc6-gcc49-opt/tutorials/pyroot\n"
     ]
    },
    {
     "name": "stdout",
     "output_type": "stream",
     "text": [
      "processing dir /cvmfs/sft.cern.ch/lcg/releases/ROOT/6.08.02-99084/x86_64-slc6-gcc49-opt/tutorials/cont\n"
     ]
    }
   ],
   "source": [
    "TFile *f = new TFile(\"code.root\",\"recreate\");\n",
    "TString dir = gROOT->GetTutorialsDir();\n",
    "importdir(dir); //change the directory as you like\n",
    "delete f;"
   ]
  }
 ],
 "metadata": {
  "kernelspec": {
   "display_name": "ROOT C++",
   "language": "c++",
   "name": "root"
  },
  "language_info": {
   "codemirror_mode": "text/x-c++src",
   "file_extension": ".C",
   "mimetype": " text/x-c++src",
   "name": "c++"
  }
 },
 "nbformat": 4,
 "nbformat_minor": 0
}
