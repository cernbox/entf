{
 "cells": [
  {
   "cell_type": "markdown",
   "metadata": {},
   "source": [
    "# Hvector\n",
    "<hr style=\"border-top-width: 4px; border-top-color: #34609b;\">\n",
    "Write and read STL vectors in a tree.\n",
    "\n",
    "\n",
    "\n",
    "\n",
    "**Author:** The ROOT Team  \n",
    "<i><small>This notebook tutorial was automatically generated with <a href= \"https://github.com/root-mirror/root/blob/master/documentation/doxygen/converttonotebook.py\">ROOTBOOK-izer (Beta)</a> from the macro found in the ROOT repository  on Tuesday, January 17, 2017 at 02:43 PM.</small></i>"
   ]
  },
  {
   "cell_type": "code",
   "execution_count": 1,
   "metadata": {
    "collapsed": false
   },
   "outputs": [],
   "source": [
    "%%cpp -d\n",
    "#include <vector>\n",
    "\n",
    "#include \"TFile.h\"\n",
    "#include \"TTree.h\"\n",
    "#include \"TCanvas.h\"\n",
    "#include \"TFrame.h\"\n",
    "#include \"TH1F.h\"\n",
    "#include \"TBenchmark.h\"\n",
    "#include \"TRandom.h\"\n",
    "#include \"TSystem.h\""
   ]
  },
  {
   "cell_type": "markdown",
   "metadata": {},
   "source": [
    " A helper function is created: "
   ]
  },
  {
   "cell_type": "code",
   "execution_count": 2,
   "metadata": {
    "collapsed": false
   },
   "outputs": [],
   "source": [
    "%%cpp -d\n",
    "void write()\n",
    "{\n",
    "\n",
    "   TFile *f = TFile::Open(\"hvector.root\",\"RECREATE\");\n",
    "\n",
    "   if (!f) { return; }\n",
    "\n",
    "   // Create one histograms\n",
    "   TH1F *hpx = new TH1F(\"hpx\",\"This is the px distribution\",100,-4,4);\n",
    "   hpx->SetFillColor(48);\n",
    "\n",
    "   std::vector<float> vpx;\n",
    "   std::vector<float> vpy;\n",
    "   std::vector<float> vpz;\n",
    "   std::vector<float> vrand;\n",
    "\n",
    "   // Create a TTree\n",
    "   TTree *t = new TTree(\"tvec\",\"Tree with vectors\");\n",
    "   t->Branch(\"vpx\",&vpx);\n",
    "   t->Branch(\"vpy\",&vpy);\n",
    "   t->Branch(\"vpz\",&vpz);\n",
    "   t->Branch(\"vrand\",&vrand);\n",
    "\n",
    "   // Create a new canvas.\n",
    "   TCanvas *c1 = new TCanvas(\"c1\",\"Dynamic Filling Example\",200,10,700,500);\n",
    "\n",
    "   gRandom->SetSeed();\n",
    "   const Int_t kUPDATE = 1000;\n",
    "   for (Int_t i = 0; i < 25000; i++) {\n",
    "      Int_t npx = (Int_t)(gRandom->Rndm(1)*15);\n",
    "\n",
    "      vpx.clear();\n",
    "      vpy.clear();\n",
    "      vpz.clear();\n",
    "      vrand.clear();\n",
    "\n",
    "      for (Int_t j = 0; j < npx; ++j) {\n",
    "\n",
    "         Float_t px,py,pz;\n",
    "         gRandom->Rannor(px,py);\n",
    "         pz = px*px + py*py;\n",
    "         Float_t random = gRandom->Rndm(1);\n",
    "\n",
    "         hpx->Fill(px);\n",
    "\n",
    "         vpx.emplace_back(px);\n",
    "         vpy.emplace_back(py);\n",
    "         vpz.emplace_back(pz);\n",
    "         vrand.emplace_back(random);\n",
    "\n",
    "      }\n",
    "      if (i && (i%kUPDATE) == 0) {\n",
    "         if (i == kUPDATE) hpx->Draw();\n",
    "         c1->Modified();\n",
    "         c1->Update();\n",
    "         if (gSystem->ProcessEvents())\n",
    "            break;\n",
    "      }\n",
    "      t->Fill();\n",
    "   }\n",
    "   f->Write();\n",
    "\n",
    "   delete f;\n",
    "}"
   ]
  },
  {
   "cell_type": "markdown",
   "metadata": {},
   "source": [
    " A helper function is created: "
   ]
  },
  {
   "cell_type": "code",
   "execution_count": 3,
   "metadata": {
    "collapsed": false
   },
   "outputs": [],
   "source": [
    "%%cpp -d\n",
    "void read()\n",
    "{\n",
    "\n",
    "   TFile *f = TFile::Open(\"hvector.root\",\"READ\");\n",
    "\n",
    "   if (!f) { return; }\n",
    "\n",
    "   TTree *t; f->GetObject(\"tvec\",t);\n",
    "\n",
    "   std::vector<float> *vpx = 0;\n",
    "\n",
    "  // Create a new canvas.\n",
    "   TCanvas *c1 = new TCanvas(\"c1\",\"Dynamic Filling Example\",200,10,700,500);\n",
    "\n",
    "   const Int_t kUPDATE = 1000;\n",
    "\n",
    "   TBranch *bvpx = 0;\n",
    "   t->SetBranchAddress(\"vpx\",&vpx,&bvpx);\n",
    "\n",
    "\n",
    "   // Create one histograms\n",
    "   TH1F *h = new TH1F(\"h\",\"This is the px distribution\",100,-4,4);\n",
    "   h->SetFillColor(48);\n",
    "\n",
    "   for (Int_t i = 0; i < 25000; i++) {\n",
    "\n",
    "      Long64_t tentry = t->LoadTree(i);\n",
    "      bvpx->GetEntry(tentry);\n",
    "\n",
    "      for (UInt_t j = 0; j < vpx->size(); ++j) {\n",
    "\n",
    "         h->Fill(vpx->at(j));\n",
    "\n",
    "      }\n",
    "      if (i && (i%kUPDATE) == 0) {\n",
    "         if (i == kUPDATE) h->Draw();\n",
    "         c1->Modified();\n",
    "         c1->Update();\n",
    "         if (gSystem->ProcessEvents())\n",
    "            break;\n",
    "      }\n",
    "   }\n",
    "\n",
    "   // Since we passed the address of a local variable we need\n",
    "   // to remove it.\n",
    "   t->ResetBranchAddresses();\n",
    "}"
   ]
  },
  {
   "cell_type": "code",
   "execution_count": 4,
   "metadata": {
    "collapsed": false
   },
   "outputs": [
    {
     "name": "stderr",
     "output_type": "stream",
     "text": [
      "Warning in <TCanvas::Constructor>: Deleting canvas with same name: c1\n"
     ]
    }
   ],
   "source": [
    "gBenchmark->Start(\"hvector\");\n",
    "\n",
    "write();\n",
    "read();\n",
    "\n",
    "// gBenchmark->Show(\"hvector\");"
   ]
  },
  {
   "cell_type": "markdown",
   "metadata": {},
   "source": [
    "Draw all canvases "
   ]
  },
  {
   "cell_type": "code",
   "execution_count": 5,
   "metadata": {
    "collapsed": false
   },
   "outputs": [
    {
     "data": {
      "image/png": "[encoded data removed]",
      "text/plain": [
       "<IPython.core.display.Image object>"
      ]
     },
     "metadata": {},
     "output_type": "display_data"
    }
   ],
   "source": [
    "gROOT->GetListOfCanvases()->Draw()"
   ]
  }
 ],
 "metadata": {
  "kernelspec": {
   "display_name": "ROOT C++",
   "language": "c++",
   "name": "root"
  },
  "language_info": {
   "codemirror_mode": "text/x-c++src",
   "file_extension": ".C",
   "mimetype": " text/x-c++src",
   "name": "c++"
  }
 },
 "nbformat": 4,
 "nbformat_minor": 0
}
