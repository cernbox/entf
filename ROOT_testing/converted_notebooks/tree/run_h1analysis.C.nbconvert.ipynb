{
 "cells": [
  {
   "cell_type": "markdown",
   "metadata": {},
   "source": [
    "# Run_H 1Analysis\n",
    "<hr style=\"border-top-width: 4px; border-top-color: #34609b;\">\n",
    "Macro driving the analysis can specify file name and type\n",
    "\n",
    ".- type == 0 : normal\n",
    " - type =  1 : use AClic to compile selector\n",
    " - type =  2 : use a fill list and then process the fill list///\n",
    "\n",
    "\n",
    "\n",
    "\n",
    "**Author:**   \n",
    "<i><small>This notebook tutorial was automatically generated with <a href= \"https://github.com/root-mirror/root/blob/master/documentation/doxygen/converttonotebook.py\">ROOTBOOK-izer (Beta)</a> from the macro found in the ROOT repository  on Tuesday, January 17, 2017 at 02:43 PM.</small></i>"
   ]
  },
  {
   "cell_type": "markdown",
   "metadata": {},
   "source": [
    "----------------------------------------"
   ]
  },
  {
   "cell_type": "markdown",
   "metadata": {},
   "source": [
    " Arguments are defined. "
   ]
  },
  {
   "cell_type": "code",
   "execution_count": 1,
   "metadata": {
    "collapsed": false
   },
   "outputs": [
    {
     "name": "stdout",
     "output_type": "stream",
     "text": [
      "\u001b[?1034h"
     ]
    }
   ],
   "source": [
    "int type = 0;\n",
    "const char * h1dir = 0;"
   ]
  },
  {
   "cell_type": "code",
   "execution_count": 2,
   "metadata": {
    "collapsed": false
   },
   "outputs": [
    {
     "name": "stdout",
     "output_type": "stream",
     "text": [
      "Run h1 analysis \n"
     ]
    }
   ],
   "source": [
    "std::cout << \"Run h1 analysis \" << std::endl;"
   ]
  },
  {
   "cell_type": "markdown",
   "metadata": {},
   "source": [
    "Create first the chain with all the files"
   ]
  },
  {
   "cell_type": "code",
   "execution_count": 3,
   "metadata": {
    "collapsed": false
   },
   "outputs": [
    {
     "name": "stdout",
     "output_type": "stream",
     "text": [
      "Creating the chain\n"
     ]
    },
    {
     "name": "stderr",
     "output_type": "stream",
     "text": [
      "Info in <h1analysis::Begin>: starting h1analysis with process option: \n",
      "Info in <h1analysis::Init>: tree: 0x7f367a9b6030\n",
      "Info in <h1analysis::SlaveBegin>: starting h1analysis with process option:  (tree: 0x7f367a9b6030)\n",
      "Info in <h1analysis::Notify>: processing file: http://root.cern.ch/files/h1/dstarmb.root\n",
      "Info in <h1analysis::Notify>: processing file: http://root.cern.ch/files/h1/dstarp1a.root\n",
      "Info in <h1analysis::Notify>: processing file: http://root.cern.ch/files/h1/dstarp1b.root\n",
      "Info in <h1analysis::Notify>: processing file: http://root.cern.ch/files/h1/dstarp2.root\n"
     ]
    },
    {
     "name": "stdout",
     "output_type": "stream",
     "text": [
      " FCN=10684 FROM MIGRAD    STATUS=CONVERGED     209 CALLS         210 TOTAL\n",
      "                     EDM=1.2814e-06    STRATEGY= 1      ERROR MATRIX ACCURATE \n",
      "  EXT PARAMETER                                   STEP         FIRST   \n",
      "  NO.   NAME      VALUE            ERROR          SIZE      DERIVATIVE \n",
      "   1  p0           9.59915e+05   8.87690e+04   2.77938e+02  -4.39940e-08\n",
      "   2  p1           3.51114e-01   2.27896e-02   2.22437e-04   1.27888e-01\n",
      "   3  p2           1.18503e+03   5.92240e+01   3.18237e+00   1.06503e-05\n",
      "   4  p3           1.45569e-01   5.93973e-05   4.11621e-06   1.60533e+00\n",
      "   5  p4           1.24388e-03   6.60206e-05   3.72402e-06  -3.36599e+00\n",
      "                               ERR DEF= 0.5\n",
      " FCN=3579.31 FROM MIGRAD    STATUS=CONVERGED      82 CALLS          83 TOTAL\n",
      "                     EDM=1.14921e-08    STRATEGY= 1      ERROR MATRIX ACCURATE \n",
      "  EXT PARAMETER                                   STEP         FIRST   \n",
      "  NO.   NAME      VALUE            ERROR          SIZE      DERIVATIVE \n",
      "   1  p0           3.32643e+05   7.03466e+03   1.44861e+02   1.13453e-08\n",
      "   2  p1           7.51086e+02   3.59621e+01   1.43273e+00  -1.48704e-06\n",
      "                               ERR DEF= 0.5\n",
      " FCN=717.592 FROM MIGRAD    STATUS=CONVERGED      63 CALLS          64 TOTAL\n",
      "                     EDM=1.07894e-09    STRATEGY= 1      ERROR MATRIX ACCURATE \n",
      "  EXT PARAMETER                                   STEP         FIRST   \n",
      "  NO.   NAME      VALUE            ERROR          SIZE      DERIVATIVE \n",
      "   1  p0           5.24322e+04   2.79115e+03   4.15601e+01   2.03253e-09\n",
      "   2  p1           1.05481e+02   1.37963e+01   2.45652e-01   2.45980e-06\n",
      "                               ERR DEF= 0.5\n"
     ]
    },
    {
     "name": "stderr",
     "output_type": "stream",
     "text": [
      "Info in <h1analysis::Fit Slices>: Restricting fit to two bins only in this example...\n",
      "Info in <h1analysis::Terminate>: processed 283813 events\n"
     ]
    }
   ],
   "source": [
    "TChain chain(\"h42\");\n",
    "\n",
    "if (h1dir) {\n",
    "   gSystem->Setenv(\"H1\",h1dir);\n",
    "}\n",
    "else\n",
    "   gSystem->Setenv(\"H1\",\"http://root.cern.ch/files/h1/\");\n",
    "\n",
    "\n",
    "std::cout << \"Creating the chain\" << std::endl;\n",
    "\n",
    "chain.SetCacheSize(20*1024*1024);\n",
    "chain.Add(\"$H1/dstarmb.root\");\n",
    "chain.Add(\"$H1/dstarp1a.root\");\n",
    "chain.Add(\"$H1/dstarp1b.root\");\n",
    "chain.Add(\"$H1/dstarp2.root\");\n",
    "\n",
    "TString selectionMacro = TString(gSystem->DirName(__FILE__) ) + \"/h1analysis.C\";\n",
    "\n",
    "if (type == 0)\n",
    "   chain.Process(selectionMacro);\n",
    "else if (type == 1)   {\n",
    "   // use AClic ( add a + at the end\n",
    "   selectionMacro += \"+\";\n",
    "   chain.Process(selectionMacro);\n",
    "}\n",
    "else if (type == 2) {\n",
    "   chain.Process(selectionMacro,\"fillList\");\n",
    "   chain.Process(selectionMacro,\"useList\");\n",
    "}"
   ]
  }
 ],
 "metadata": {
  "kernelspec": {
   "display_name": "ROOT C++",
   "language": "c++",
   "name": "root"
  },
  "language_info": {
   "codemirror_mode": "text/x-c++src",
   "file_extension": ".C",
   "mimetype": " text/x-c++src",
   "name": "c++"
  }
 },
 "nbformat": 4,
 "nbformat_minor": 0
}
