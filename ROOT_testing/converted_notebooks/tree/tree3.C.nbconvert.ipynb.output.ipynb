{
 "cells": [
  {
   "cell_type": "markdown",
   "metadata": {},
   "source": [
    "# Tree 3\n",
    "<hr style=\"border-top-width: 4px; border-top-color: #34609b;\">\n",
    "Example of a Tree where branches are variable length arrays\n",
    "A second Tree is created and filled in parallel.\n",
    "Run this script with\n",
    "```\n",
    "  .x tree3.C\n",
    "```\n",
    "In the function treer, the first Tree is open.\n",
    "The second Tree is declared friend of the first tree.\n",
    "TTree::Draw is called with variables from both Trees.\n",
    "\n",
    "\n",
    "\n",
    "**Author:** Rene Brun  \n",
    "<i><small>This notebook tutorial was automatically generated with <a href= \"https://github.com/root-mirror/root/blob/master/documentation/doxygen/converttonotebook.py\">ROOTBOOK-izer (Beta)</a> from the macro found in the ROOT repository  on Tuesday, January 17, 2017 at 02:44 PM.</small></i>"
   ]
  },
  {
   "cell_type": "code",
   "execution_count": 1,
   "metadata": {
    "collapsed": false
   },
   "outputs": [],
   "source": [
    "%%cpp -d\n",
    "#include \"TFile.h\"\n",
    "#include \"TTree.h\"\n",
    "#include \"TRandom.h\"\n",
    "#include \"TCanvas.h\""
   ]
  },
  {
   "cell_type": "markdown",
   "metadata": {},
   "source": [
    " A helper function is created: "
   ]
  },
  {
   "cell_type": "code",
   "execution_count": 2,
   "metadata": {
    "collapsed": false
   },
   "outputs": [],
   "source": [
    "%%cpp -d\n",
    "void tree3w() {\n",
    "\n",
    "   const Int_t kMaxTrack = 500;\n",
    "   Int_t ntrack;\n",
    "   Int_t stat[kMaxTrack];\n",
    "   Int_t sign[kMaxTrack];\n",
    "   Float_t px[kMaxTrack];\n",
    "   Float_t py[kMaxTrack];\n",
    "   Float_t pz[kMaxTrack];\n",
    "   Float_t pt[kMaxTrack];\n",
    "   Float_t zv[kMaxTrack];\n",
    "   Float_t chi2[kMaxTrack];\n",
    "   Double_t sumstat;\n",
    "\n",
    "   TFile f(\"tree3.root\",\"recreate\");\n",
    "   TTree *t3 = new TTree(\"t3\",\"Reconst ntuple\");\n",
    "   t3->Branch(\"ntrack\",&ntrack,\"ntrack/I\");\n",
    "   t3->Branch(\"stat\",stat,\"stat[ntrack]/I\");\n",
    "   t3->Branch(\"sign\",sign,\"sign[ntrack]/I\");\n",
    "   t3->Branch(\"px\",px,\"px[ntrack]/F\");\n",
    "   t3->Branch(\"py\",py,\"py[ntrack]/F\");\n",
    "   t3->Branch(\"pz\",pz,\"pz[ntrack]/F\");\n",
    "   t3->Branch(\"zv\",zv,\"zv[ntrack]/F\");\n",
    "   t3->Branch(\"chi2\",chi2,\"chi2[ntrack]/F\");\n",
    "\n",
    "   TFile fr(\"tree3f.root\",\"recreate\");\n",
    "   TTree *t3f = new TTree(\"t3f\",\"a friend Tree\");\n",
    "   t3f->Branch(\"ntrack\",&ntrack,\"ntrack/I\");\n",
    "   t3f->Branch(\"sumstat\",&sumstat,\"sumstat/D\");\n",
    "   t3f->Branch(\"pt\",pt,\"pt[ntrack]/F\");\n",
    "\n",
    "   for (Int_t i=0;i<1000;i++) {\n",
    "      Int_t nt = gRandom->Rndm()*(kMaxTrack-1);\n",
    "      ntrack = nt;\n",
    "      sumstat = 0;\n",
    "      for (Int_t n=0;n<nt;n++) {\n",
    "         stat[n] = n%3;\n",
    "         sign[n] = i%2;\n",
    "         px[n]   = gRandom->Gaus(0,1);\n",
    "         py[n]   = gRandom->Gaus(0,2);\n",
    "         pz[n]   = gRandom->Gaus(10,5);\n",
    "         zv[n]   = gRandom->Gaus(100,2);\n",
    "         chi2[n] = gRandom->Gaus(0,.01);\n",
    "         sumstat += chi2[n];\n",
    "         pt[n]   = TMath::Sqrt(px[n]*px[n] + py[n]*py[n]);\n",
    "      }\n",
    "      t3->Fill();\n",
    "      t3f->Fill();\n",
    "   }\n",
    "   t3->Print();\n",
    "   f.cd();\n",
    "   t3->Write();\n",
    "   fr.cd();\n",
    "   t3f->Write();\n",
    "}"
   ]
  },
  {
   "cell_type": "markdown",
   "metadata": {},
   "source": [
    " A helper function is created: "
   ]
  },
  {
   "cell_type": "code",
   "execution_count": 3,
   "metadata": {
    "collapsed": false
   },
   "outputs": [],
   "source": [
    "%%cpp -d\n",
    "void tree3r()\n",
    "{\n",
    "   TFile *f = new TFile(\"tree3.root\");\n",
    "   TTree *t3 = (TTree*)f->Get(\"t3\");\n",
    "   t3->AddFriend(\"t3f\",\"tree3f.root\");\n",
    "   t3->Draw(\"pz\",\"pt>3\");\n",
    "}"
   ]
  },
  {
   "cell_type": "markdown",
   "metadata": {},
   "source": [
    " A helper function is created: "
   ]
  },
  {
   "cell_type": "code",
   "execution_count": 4,
   "metadata": {
    "collapsed": false
   },
   "outputs": [],
   "source": [
    "%%cpp -d\n",
    "void tree3r2()\n",
    "{\n",
    "   TPad *p = new TPad(\"p\",\"p\",0.6, 0.4, 0.98, 0.8);\n",
    "   p->Draw(); p->cd();\n",
    "   TFile *f1 = new TFile(\"tree3.root\");\n",
    "   TFile *f2 = new TFile(\"tree3f.root\");\n",
    "   TTree *t3 = (TTree*)f1->Get(\"t3\");\n",
    "   t3->AddFriend(\"t3f\",f2);\n",
    "   t3->Draw(\"pz\",\"pt>3\");\n",
    "}"
   ]
  },
  {
   "cell_type": "code",
   "execution_count": 5,
   "metadata": {
    "collapsed": false
   },
   "outputs": [
    {
     "name": "stdout",
     "output_type": "stream",
     "text": [
      "******************************************************************************\n",
      "*Tree    :t3        : Reconst ntuple                                         *\n",
      "*Entries :     1000 : Total =         7018667 bytes  File  Size =    4403660 *\n",
      "*        :          : Tree compression factor =   1.55                       *\n",
      "******************************************************************************\n",
      "*Br    0 :ntrack    : ntrack/I                                               *\n",
      "*Entries :     1000 : Total  Size=       4636 bytes  One basket in memory    *\n",
      "*Baskets :        0 : Basket Size=      32000 bytes  Compression=   1.00     *\n",
      "*............................................................................*\n",
      "*Br    1 :stat      : stat[ntrack]/I                                         *\n",
      "*Entries :     1000 : Total  Size=    1002099 bytes  File Size  =      16050 *\n",
      "*Baskets :       31 : Basket Size=      32000 bytes  Compression=  60.65     *\n",
      "*............................................................................*\n",
      "*Br    2 :sign      : sign[ntrack]/I                                         *\n",
      "*Entries :     1000 : Total  Size=    1002099 bytes  File Size  =      16427 *\n",
      "*Baskets :       31 : Basket Size=      32000 bytes  Compression=  59.25     *\n",
      "*............................................................................*\n",
      "*Br    3 :px        : px[ntrack]/F                                           *\n",
      "*Entries :     1000 : Total  Size=    1002032 bytes  File Size  =     903860 *\n",
      "*Baskets :       31 : Basket Size=      32000 bytes  Compression=   1.08     *\n",
      "*............................................................................*\n",
      "*Br    4 :py        : py[ntrack]/F                                           *\n",
      "*Entries :     1000 : Total  Size=    1002032 bytes  File Size  =     906967 *\n",
      "*Baskets :       31 : Basket Size=      32000 bytes  Compression=   1.07     *\n",
      "*............................................................................*\n",
      "*Br    5 :pz        : pz[ntrack]/F                                           *\n",
      "*Entries :     1000 : Total  Size=    1002032 bytes  File Size  =     870601 *\n",
      "*Baskets :       31 : Basket Size=      32000 bytes  Compression=   1.12     *\n",
      "*............................................................................*\n",
      "*Br    6 :zv        : zv[ntrack]/F                                           *\n",
      "*Entries :     1000 : Total  Size=    1002032 bytes  File Size  =     784206 *\n",
      "*Baskets :       31 : Basket Size=      32000 bytes  Compression=   1.24     *\n",
      "*............................................................................*\n",
      "*Br    7 :chi2      : chi2[ntrack]/F                                         *\n",
      "*Entries :     1000 : Total  Size=    1002106 bytes  File Size  =     905549 *\n",
      "*Baskets :       31 : Basket Size=      32000 bytes  Compression=   1.07     *\n",
      "*............................................................................*\n"
     ]
    },
    {
     "name": "stderr",
     "output_type": "stream",
     "text": [
      "Info in <TCanvas::MakeDefCanvas>:  created default TCanvas with name c1\n"
     ]
    }
   ],
   "source": [
    "tree3w();\n",
    "tree3r();\n",
    "tree3r2();"
   ]
  },
  {
   "cell_type": "markdown",
   "metadata": {},
   "source": [
    "Draw all canvases "
   ]
  },
  {
   "cell_type": "code",
   "execution_count": 6,
   "metadata": {
    "collapsed": false
   },
   "outputs": [
    {
     "data": {
      "image/png": "[encoded data removed]",
      "text/plain": [
       "<IPython.core.display.Image object>"
      ]
     },
     "metadata": {},
     "output_type": "display_data"
    }
   ],
   "source": [
    "gROOT->GetListOfCanvases()->Draw()"
   ]
  }
 ],
 "metadata": {
  "kernelspec": {
   "display_name": "ROOT C++",
   "language": "c++",
   "name": "root"
  },
  "language_info": {
   "codemirror_mode": "text/x-c++src",
   "file_extension": ".C",
   "mimetype": " text/x-c++src",
   "name": "c++"
  }
 },
 "nbformat": 4,
 "nbformat_minor": 0
}
