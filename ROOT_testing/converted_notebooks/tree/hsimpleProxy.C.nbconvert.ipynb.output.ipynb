{
 "cells": [
  {
   "cell_type": "markdown",
   "metadata": {},
   "source": [
    "# Hsimple Proxy\n",
    "<hr style=\"border-top-width: 4px; border-top-color: #34609b;\">\n",
    "\n",
    "To use this file, generate hsimple.root:\n",
    "``` cpp\n",
    "   root.exe -b -l -q hsimple.C\n",
    "```\n",
    "and do\n",
    "``` cpp\n",
    "   TFile *file = TFile::Open(\"hsimple.root\");\n",
    "   TTree *ntuple ;  file->GetObject(\"ntuple\",ntuple);\n",
    "   ntuple->Draw(\"hsimpleProxy.C+\");\n",
    "```\n",
    "\n",
    "\n",
    "\n",
    "\n",
    "**Author:** Rene Brun  \n",
    "<i><small>This notebook tutorial was automatically generated with <a href= \"https://github.com/root-mirror/root/blob/master/documentation/doxygen/converttonotebook.py\">ROOTBOOK-izer (Beta)</a> from the macro found in the ROOT repository  on Tuesday, January 17, 2017 at 02:43 PM.</small></i>"
   ]
  },
  {
   "cell_type": "code",
   "execution_count": 1,
   "metadata": {
    "collapsed": false
   },
   "outputs": [
    {
     "name": "stderr",
     "output_type": "stream",
     "text": [
      "input_line_25:2:3: error: use of undeclared identifier 'px'\n",
      " (px)\n",
      "  ^\n"
     ]
    }
   ],
   "source": [
    "return px;"
   ]
  }
 ],
 "metadata": {
  "kernelspec": {
   "display_name": "ROOT C++",
   "language": "c++",
   "name": "root"
  },
  "language_info": {
   "codemirror_mode": "text/x-c++src",
   "file_extension": ".C",
   "mimetype": " text/x-c++src",
   "name": "c++"
  }
 },
 "nbformat": 4,
 "nbformat_minor": 0
}
