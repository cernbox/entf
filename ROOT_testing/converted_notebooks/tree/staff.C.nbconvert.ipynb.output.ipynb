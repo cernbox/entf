{
 "cells": [
  {
   "cell_type": "markdown",
   "metadata": {},
   "source": [
    "# Staff\n",
    "<hr style=\"border-top-width: 4px; border-top-color: #34609b;\">\n",
    "Create a plot of the data in `cernstaff.root`\n",
    "To create `cernstaff.root`, execute tutorial `$ROOTSYS/tutorials/tree/cernbuild.C`\n",
    "\n",
    "\n",
    "\n",
    "\n",
    "**Author:** Rene Brun  \n",
    "<i><small>This notebook tutorial was automatically generated with <a href= \"https://github.com/root-mirror/root/blob/master/documentation/doxygen/converttonotebook.py\">ROOTBOOK-izer (Beta)</a> from the macro found in the ROOT repository  on Tuesday, January 17, 2017 at 02:43 PM.</small></i>"
   ]
  },
  {
   "cell_type": "code",
   "execution_count": 1,
   "metadata": {
    "collapsed": false
   },
   "outputs": [
    {
     "name": "stderr",
     "output_type": "stream",
     "text": [
      "cling::DynamicLibraryManager::loadLibrary(): libGLU.so.1: cannot open shared object file: No such file or directory\n",
      "IncrementalExecutor::executeFunction: symbol '_ZN12TGL5DDataSetC1EP5TTree' unresolved while linking [cling interface function]!\n",
      "You are probably missing the definition of TGL5DDataSet::TGL5DDataSet(TTree*)\n",
      "Maybe you need to load the corresponding shared library?\n"
     ]
    },
    {
     "name": "stderr",
     "output_type": "stream",
     "text": [
      "Info in <TCanvas::Print>: png file staff.C.png has been created\n"
     ]
    }
   ],
   "source": [
    "auto f = TFile::Open(\"cernstaff.root\");\n",
    "TTree *T = nullptr;\n",
    "f->GetObject(\"T\",T);\n",
    "T->Draw(\"Grade:Age:Cost:Division:Nation\",\"\",\"gl5d\");\n",
    "if (gPad) gPad->Print(\"staff.C.png\");"
   ]
  }
 ],
 "metadata": {
  "kernelspec": {
   "display_name": "ROOT C++",
   "language": "c++",
   "name": "root"
  },
  "language_info": {
   "codemirror_mode": "text/x-c++src",
   "file_extension": ".C",
   "mimetype": " text/x-c++src",
   "name": "c++"
  }
 },
 "nbformat": 4,
 "nbformat_minor": 0
}
