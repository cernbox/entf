{
 "cells": [
  {
   "cell_type": "markdown",
   "metadata": {},
   "source": [
    "# Treefriend\n",
    "<hr style=\"border-top-width: 4px; border-top-color: #34609b;\">\n",
    "Illustrates how to use Tree friends:\n",
    "  - create a simple TTree\n",
    "  - Copy a subset of this TTree to a new TTree\n",
    "  - Create a Tree Index\n",
    "  - Make a friend TTree\n",
    "  - compare two TTrees\n",
    "  - Draw a variable from the first tree versus a variable\n",
    "    in the friend Tree\n",
    "\n",
    "You can run this tutorial with:\n",
    "```\n",
    " root > .x treefriend.C  (interpreted via Cling)\n",
    " root > .x treefriend.C+ (executed via ACLIC & the native compiler)\n",
    "```\n",
    "or, variants like:\n",
    "```\n",
    " root > .L treefriend.C+\n",
    " root > CreateParentTree();\n",
    " root > CreateFriendTree();\n",
    " root > CompareTrees();\n",
    " root > DrawFriend();\n",
    "```\n",
    "\n",
    "\n",
    "\n",
    "\n",
    "**Author:** Rene Brun  \n",
    "<i><small>This notebook tutorial was automatically generated with <a href= \"https://github.com/root-mirror/root/blob/master/documentation/doxygen/converttonotebook.py\">ROOTBOOK-izer (Beta)</a> from the macro found in the ROOT repository  on Tuesday, January 17, 2017 at 02:44 PM.</small></i>"
   ]
  },
  {
   "cell_type": "code",
   "execution_count": 1,
   "metadata": {
    "collapsed": false
   },
   "outputs": [
    {
     "name": "stdout",
     "output_type": "stream",
     "text": [
      "\u001b[?1034h"
     ]
    }
   ],
   "source": [
    "%%cpp -d\n",
    "#include \"TTree.h\"\n",
    "#include \"TFile.h\"\n",
    "#include \"TRandom.h\"\n",
    "#include \"TTree.h\"\n",
    "#include \"TTree.h\"\n",
    "\n",
    "Int_t Run, Event;\n",
    "Float_t x,y,z;"
   ]
  },
  {
   "cell_type": "markdown",
   "metadata": {},
   "source": [
    " A helper function is created: "
   ]
  },
  {
   "cell_type": "code",
   "execution_count": 2,
   "metadata": {
    "collapsed": false
   },
   "outputs": [],
   "source": [
    "%%cpp -d\n",
    "void CreateParentTree() {\n",
    "   // create a simple TTree with 5 branches\n",
    "   // Two branches (\"Run\" and \"Event\") will be used to index the Tree\n",
    "   TFile *f = new TFile(\"treeparent.root\",\"recreate\");\n",
    "   TTree *T = new TTree(\"T\",\"test friend trees\");\n",
    "   T->Branch(\"Run\",&Run,\"Run/I\");\n",
    "   T->Branch(\"Event\",&Event,\"Event/I\");\n",
    "   T->Branch(\"x\",&x,\"x/F\");\n",
    "   T->Branch(\"y\",&y,\"y/F\");\n",
    "   T->Branch(\"z\",&z,\"z/F\");\n",
    "   TRandom r;\n",
    "   for (Int_t i=0;i<10000;i++) {\n",
    "      if (i < 5000) Run = 1;\n",
    "      else          Run = 2;\n",
    "      Event = i;\n",
    "      x = r.Gaus(10,1);\n",
    "      y = r.Gaus(20,2);\n",
    "      z = r.Landau(2,1);\n",
    "      T->Fill();\n",
    "   }\n",
    "   T->Print();\n",
    "   T->Write();\n",
    "   delete f;\n",
    "}"
   ]
  },
  {
   "cell_type": "markdown",
   "metadata": {},
   "source": [
    " A helper function is created: "
   ]
  },
  {
   "cell_type": "code",
   "execution_count": 3,
   "metadata": {
    "collapsed": false
   },
   "outputs": [],
   "source": [
    "%%cpp -d\n",
    "void CreateFriendTree() {\n",
    "   // Open the file created by CreateParentTree\n",
    "   // Copy a subset of the TTree into a new TTree\n",
    "   //   (see also tutorials copytree.C, copytree2.C and copytree3.C)\n",
    "   // Create an index on the new TTree (\"Run\",\"Event\")\n",
    "   // Write the new TTree (including its index)\n",
    "\n",
    "   TFile *f = new TFile(\"treeparent.root\");\n",
    "   TTree *T = (TTree*)f->Get(\"T\");\n",
    "   TFile *ff = new TFile(\"treefriend.root\",\"recreate\");\n",
    "   TTree *TF = T->CopyTree(\"z<10\");\n",
    "   TF->SetName(\"TF\");\n",
    "   TF->BuildIndex(\"Run\",\"Event\");\n",
    "   TF->Write();\n",
    "   TF->Print();\n",
    "   delete ff;\n",
    "}"
   ]
  },
  {
   "cell_type": "markdown",
   "metadata": {},
   "source": [
    " A helper function is created: "
   ]
  },
  {
   "cell_type": "code",
   "execution_count": 4,
   "metadata": {
    "collapsed": false
   },
   "outputs": [],
   "source": [
    "%%cpp -d\n",
    "void CompareTrees() {\n",
    "   // The two TTrees created above are compared.\n",
    "   // The subset of entries in the small TTree must be identical\n",
    "   // to the entries in the original TTree.\n",
    "\n",
    "   TFile *f = new TFile(\"treeparent.root\");\n",
    "   TTree *T  = (TTree*)f->Get(\"T\");\n",
    "   TFile *ff = new TFile(\"treefriend.root\");\n",
    "   TTree *TF = (TTree*)ff->Get(\"TF\");\n",
    "   Int_t fRun,fEvent;\n",
    "   Float_t fx,fy,fz;\n",
    "   T->SetBranchAddress(\"Run\",&Run);\n",
    "   T->SetBranchAddress(\"Event\",&Event);\n",
    "   T->SetBranchAddress(\"x\",&x);\n",
    "   T->SetBranchAddress(\"y\",&y);\n",
    "   T->SetBranchAddress(\"z\",&z);\n",
    "   TF->SetBranchAddress(\"Run\",&fRun);\n",
    "   TF->SetBranchAddress(\"Event\",&fEvent);\n",
    "   TF->SetBranchAddress(\"x\",&fx);\n",
    "   TF->SetBranchAddress(\"y\",&fy);\n",
    "   TF->SetBranchAddress(\"z\",&fz);\n",
    "   T->AddFriend(TF);\n",
    "\n",
    "   Long64_t nentries = T->GetEntries();\n",
    "   Int_t nok = 0;\n",
    "   for (Long64_t i=0;i<nentries;i++) {\n",
    "      T->GetEntry(i);\n",
    "      if (fRun == Run && fEvent==Event && x==fx && y==fy &&z==fz) {\n",
    "         nok++;\n",
    "      } else {\n",
    "         if (TF->GetEntryWithIndex(Run,Event) > 0) {\n",
    "            if (i <100) printf(\"i=%lld, Run=%d, Event=%d, x=%g, y=%g, z=%g,  : fRun=%d, fEvent=%d, fx=%g, fy=%g, fz=%g\\n\",i,Run,Event,x,y,z,fRun,fEvent,fx,fy,fz);\n",
    "         }\n",
    "      }\n",
    "   }\n",
    "   printf(\"nok = %d, fentries=%lld\\n\",nok,TF->GetEntries());\n",
    "\n",
    "   delete f;\n",
    "   delete ff;\n",
    "}"
   ]
  },
  {
   "cell_type": "markdown",
   "metadata": {},
   "source": [
    " A helper function is created: "
   ]
  },
  {
   "cell_type": "code",
   "execution_count": 5,
   "metadata": {
    "collapsed": false
   },
   "outputs": [],
   "source": [
    "%%cpp -d\n",
    "void DrawFriend() {\n",
    "  // Draw a scatter plot of variable x in the parent TTree versus\n",
    "  // the same variable in the subtree.\n",
    "  // This should produce points along a straight line.\n",
    "\n",
    "   TFile *f  = TFile::Open(\"treeparent.root\");\n",
    "   TTree *T  = (TTree*)f->Get(\"T\");\n",
    "   T->AddFriend(\"TF\",\"treefriend.root\");\n",
    "   T->Draw(\"x:TF.x\");\n",
    "}"
   ]
  },
  {
   "cell_type": "code",
   "execution_count": 6,
   "metadata": {
    "collapsed": false
   },
   "outputs": [
    {
     "name": "stdout",
     "output_type": "stream",
     "text": [
      "******************************************************************************\n",
      "*Tree    :T         : test friend trees                                      *\n",
      "*Entries :    10000 : Total =          203696 bytes  File  Size =      94821 *\n",
      "*        :          : Tree compression factor =   1.69                       *\n",
      "******************************************************************************\n",
      "*Br    0 :Run       : Run/I                                                  *\n",
      "*Entries :    10000 : Total  Size=      40687 bytes  File Size  =        265 *\n",
      "*Baskets :        1 : Basket Size=      32000 bytes  Compression= 120.75     *\n",
      "*............................................................................*\n",
      "*Br    1 :Event     : Event/I                                                *\n",
      "*Entries :    10000 : Total  Size=      40701 bytes  File Size  =      11231 *\n",
      "*Baskets :        1 : Basket Size=      32000 bytes  Compression=   2.85     *\n",
      "*............................................................................*\n",
      "*Br    2 :x         : x/F                                                    *\n",
      "*Entries :    10000 : Total  Size=      40673 bytes  File Size  =      27116 *\n",
      "*Baskets :        1 : Basket Size=      32000 bytes  Compression=   1.18     *\n",
      "*............................................................................*\n",
      "*Br    3 :y         : y/F                                                    *\n",
      "*Entries :    10000 : Total  Size=      40673 bytes  File Size  =      27035 *\n",
      "*Baskets :        1 : Basket Size=      32000 bytes  Compression=   1.18     *\n",
      "*............................................................................*\n",
      "*Br    4 :z         : z/F                                                    *\n",
      "*Entries :    10000 : Total  Size=      40673 bytes  File Size  =      29174 *\n",
      "*Baskets :        1 : Basket Size=      32000 bytes  Compression=   1.10     *\n",
      "*............................................................................*\n",
      "******************************************************************************\n",
      "*Tree    :TF        : test friend trees                                      *\n",
      "*Entries :     8460 : Total =          375714 bytes  File  Size =     128524 *\n",
      "*        :          : Tree compression factor =   1.69                       *\n",
      "******************************************************************************\n",
      "*Br    0 :Run       : Run/I                                                  *\n",
      "*Entries :     8460 : Total  Size=      34452 bytes  File Size  =        374 *\n",
      "*Baskets :        2 : Basket Size=      32000 bytes  Compression=  90.84     *\n",
      "*............................................................................*\n",
      "*Br    1 :Event     : Event/I                                                *\n",
      "*Entries :     8460 : Total  Size=      34464 bytes  File Size  =      12152 *\n",
      "*Baskets :        2 : Basket Size=      32000 bytes  Compression=   2.80     *\n",
      "*............................................................................*\n",
      "*Br    2 :x         : x/F                                                    *\n",
      "*Entries :     8460 : Total  Size=      34440 bytes  File Size  =      28849 *\n",
      "*Baskets :        2 : Basket Size=      32000 bytes  Compression=   1.18     *\n",
      "*............................................................................*\n",
      "*Br    3 :y         : y/F                                                    *\n",
      "*Entries :     8460 : Total  Size=      34440 bytes  File Size  =      28757 *\n",
      "*Baskets :        2 : Basket Size=      32000 bytes  Compression=   1.18     *\n",
      "*............................................................................*\n",
      "*Br    4 :z         : z/F                                                    *\n",
      "*Entries :     8460 : Total  Size=      34440 bytes  File Size  =      30674 *\n",
      "*Baskets :        2 : Basket Size=      32000 bytes  Compression=   1.11     *\n",
      "*............................................................................*\n",
      "nok = 8460, fentries=8460\n"
     ]
    },
    {
     "name": "stderr",
     "output_type": "stream",
     "text": [
      "Info in <TCanvas::MakeDefCanvas>:  created default TCanvas with name c1\n"
     ]
    }
   ],
   "source": [
    "CreateParentTree();\n",
    "CreateFriendTree();\n",
    "CompareTrees();\n",
    "DrawFriend();"
   ]
  },
  {
   "cell_type": "markdown",
   "metadata": {},
   "source": [
    "Draw all canvases "
   ]
  },
  {
   "cell_type": "code",
   "execution_count": 7,
   "metadata": {
    "collapsed": false
   },
   "outputs": [
    {
     "data": {
      "image/png": "[encoded data removed]",
      "text/plain": [
       "<IPython.core.display.Image object>"
      ]
     },
     "metadata": {},
     "output_type": "display_data"
    }
   ],
   "source": [
    "gROOT->GetListOfCanvases()->Draw()"
   ]
  }
 ],
 "metadata": {
  "kernelspec": {
   "display_name": "ROOT C++",
   "language": "c++",
   "name": "root"
  },
  "language_info": {
   "codemirror_mode": "text/x-c++src",
   "file_extension": ".C",
   "mimetype": " text/x-c++src",
   "name": "c++"
  }
 },
 "nbformat": 4,
 "nbformat_minor": 0
}
