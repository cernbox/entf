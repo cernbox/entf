{
 "cells": [
  {
   "cell_type": "markdown",
   "metadata": {},
   "source": [
    "# Hsimple Proxy Driver\n",
    "<hr style=\"border-top-width: 4px; border-top-color: #34609b;\">\n",
    "This is the driver of the hsimpleProxy example\n",
    "It provides the infrastructure to run that code on an ntuple\n",
    "To be run from the tutorials directory\n",
    "\n",
    "\n",
    "\n",
    "\n",
    "**Author:** Rene Brun  \n",
    "<i><small>This notebook tutorial was automatically generated with <a href= \"https://github.com/root-mirror/root/blob/master/documentation/doxygen/converttonotebook.py\">ROOTBOOK-izer (Beta)</a> from the macro found in the ROOT repository  on Tuesday, January 17, 2017 at 02:43 PM.</small></i>"
   ]
  },
  {
   "cell_type": "code",
   "execution_count": 1,
   "metadata": {
    "collapsed": false
   },
   "outputs": [
    {
     "name": "stdout",
     "output_type": "stream",
     "text": [
      "/eos/user/e/ebocchi/Tests_on_SWAN/batch_testing/converted_notebooks/tree\n"
     ]
    },
    {
     "name": "stderr",
     "output_type": "stream",
     "text": [
      "Info in <TTreePlayer::DrawScript>: Will process tree/chain using generatedSel.h+\n"
     ]
    },
    {
     "name": "stderr",
     "output_type": "stream",
     "text": [
      "Info in <TUnixSystem::ACLiC>: creating shared library /eos/user/e/ebocchi/Tests_on_SWAN/batch_testing/converted_notebooks/tree/./generatedSel_h.so\n"
     ]
    },
    {
     "name": "stderr",
     "output_type": "stream",
     "text": [
      "Info in <TCanvas::MakeDefCanvas>:  created default TCanvas with name c1\n"
     ]
    }
   ],
   "source": [
    "std::cout << gSystem->WorkingDirectory() << std::endl;\n",
    "TFile *file = TFile::Open(\"hsimple.root\");\n",
    "if (!file){\n",
    "   std::cerr << \"Input file not found.\\n\";\n",
    "   return ;\n",
    "}\n",
    "TTree *ntuple = nullptr;\n",
    "file->GetObject(\"ntuple\",ntuple);\n",
    "TString dir = gSystem->DirName(__FILE__);\n",
    "ntuple->Draw(dir+\"/hsimpleProxy.C+\");"
   ]
  }
 ],
 "metadata": {
  "kernelspec": {
   "display_name": "ROOT C++",
   "language": "c++",
   "name": "root"
  },
  "language_info": {
   "codemirror_mode": "text/x-c++src",
   "file_extension": ".C",
   "mimetype": " text/x-c++src",
   "name": "c++"
  }
 },
 "nbformat": 4,
 "nbformat_minor": 0
}
