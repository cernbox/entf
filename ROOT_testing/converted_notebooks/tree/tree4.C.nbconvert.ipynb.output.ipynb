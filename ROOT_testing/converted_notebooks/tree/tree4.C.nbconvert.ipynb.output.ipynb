{
 "cells": [
  {
   "cell_type": "markdown",
   "metadata": {},
   "source": [
    "# Tree 4\n",
    "<hr style=\"border-top-width: 4px; border-top-color: #34609b;\">\n",
    "This example writes a tree with objects of the class Event.\n",
    "It is a simplified version of $ROOTSYS/test/MainEvent.cxx to\n",
    "write the tree, and $ROOTSYS/test/eventb.C\n",
    "It shows:\n",
    "  - how to fill a Tree with an event class containing these data members:\n",
    "```\n",
    "    char           fType[20];\n",
    "    Int_t          fNtrack;\n",
    "    Int_t          fNseg;\n",
    "    Int_t          fNvertex;\n",
    "    UInt_t         fFlag;\n",
    "    Float_t        fTemperature;\n",
    "    EventHeader    fEvtHdr;\n",
    "    TClonesArray  *fTracks;            //->\n",
    "    TH1F          *fH;                 //->\n",
    "    Int_t          fMeasures[10];\n",
    "    Float_t        fMatrix[4][4];\n",
    "    Float_t       *fClosestDistance;   //[fNvertex]\n",
    "```\n",
    "  - the difference in splitting or not splitting a branch\n",
    "  - how to read selected branches of the tree, and print the first entry with less than 587 tracks.\n",
    "  - how to browse and analyze the Tree via the TBrowser and TTreeViewer\n",
    "\n",
    "This example can be run in many different ways:\n",
    " - way1 using the Cling interpreter:\n",
    "```\n",
    ".x tree4.C\n",
    "```\n",
    " - way2 using the Cling interpreter:\n",
    "```\n",
    ".L tree4.C\n",
    "tree4()\n",
    "```\n",
    " - way3 using ACLIC:\n",
    "```\n",
    ".L ../test/libEvent.so\n",
    ".x tree4.C++\n",
    "```\n",
    "One can also run the write and read parts in two separate sessions.\n",
    "For example following one of the sessions above, one can start the session:\n",
    "```\n",
    "  .L tree4.C\n",
    "  tree4r();\n",
    "```\n",
    "\n",
    "\n",
    "\n",
    "**Author:** Rene Brun  \n",
    "<i><small>This notebook tutorial was automatically generated with <a href= \"https://github.com/root-mirror/root/blob/master/documentation/doxygen/converttonotebook.py\">ROOTBOOK-izer (Beta)</a> from the macro found in the ROOT repository  on Tuesday, January 17, 2017 at 02:44 PM.</small></i>"
   ]
  },
  {
   "cell_type": "code",
   "execution_count": 1,
   "metadata": {
    "collapsed": false
   },
   "outputs": [],
   "source": [
    "%%cpp -d\n",
    "#include \"TFile.h\"\n",
    "#include \"TTree.h\"\n",
    "#include \"TBrowser.h\"\n",
    "#include \"TH2.h\"\n",
    "#include \"TRandom.h\"\n",
    "#include \"TClassTable.h\"\n",
    "#include \"TSystem.h\"\n",
    "#include \"TROOT.h\""
   ]
  },
  {
   "cell_type": "code",
   "execution_count": 2,
   "metadata": {
    "collapsed": false
   },
   "outputs": [],
   "source": [
    "TString dir = \"$ROOTSYS/test/Event.h\";\n",
    "gSystem->ExpandPathName(dir);\n",
    "TString includeCommand = TString::Format(\"#include \\\"%s\\\"\" , dir.Data());\n",
    "gROOT->ProcessLine(includeCommand);"
   ]
  },
  {
   "cell_type": "markdown",
   "metadata": {},
   "source": [
    " A helper function is created: "
   ]
  },
  {
   "cell_type": "code",
   "execution_count": 3,
   "metadata": {
    "collapsed": false
   },
   "outputs": [],
   "source": [
    "%%cpp -d\n",
    "void tree4w()\n",
    "{\n",
    "\n",
    "  //create a Tree file tree4.root\n",
    "  TFile f(\"tree4.root\",\"RECREATE\");\n",
    "\n",
    "  // Create a ROOT Tree\n",
    "  TTree t4(\"t4\",\"A Tree with Events\");\n",
    "\n",
    "  // Create a pointer to an Event object\n",
    "  Event *event = new Event();\n",
    "\n",
    "  // Create two branches, split one.\n",
    "  t4.Branch(\"event_split\", &event,16000,99);\n",
    "  t4.Branch(\"event_not_split\", &event,16000,0);\n",
    "\n",
    "  // a local variable for the event type\n",
    "  char etype[20];\n",
    "\n",
    "  // Fill the tree\n",
    "  for (Int_t ev = 0; ev <100; ev++) {\n",
    "    Float_t sigmat, sigmas;\n",
    "    gRandom->Rannor(sigmat,sigmas);\n",
    "    Int_t ntrack   = Int_t(600 + 600 *sigmat/120.);\n",
    "    Float_t random = gRandom->Rndm(1);\n",
    "    sprintf(etype,\"type%d\",ev%5);\n",
    "    event->SetType(etype);\n",
    "    event->SetHeader(ev, 200, 960312, random);\n",
    "    event->SetNseg(Int_t(10*ntrack+20*sigmas));\n",
    "    event->SetNvertex(Int_t(1+20*gRandom->Rndm()));\n",
    "    event->SetFlag(UInt_t(random+0.5));\n",
    "    event->SetTemperature(random+20.);\n",
    "\n",
    "    for(UChar_t m = 0; m < 10; m++) {\n",
    "      event->SetMeasure(m, Int_t(gRandom->Gaus(m,m+1)));\n",
    "    }\n",
    "\n",
    "    // fill the matrix\n",
    "    for(UChar_t i0 = 0; i0 < 4; i0++) {\n",
    "      for(UChar_t i1 = 0; i1 < 4; i1++) {\n",
    "        event->SetMatrix(i0,i1,gRandom->Gaus(i0*i1,1));\n",
    "      }\n",
    "    }\n",
    "\n",
    "    //  Create and fill the Track objects\n",
    "    for (Int_t t = 0; t < ntrack; t++) event->AddTrack(random);\n",
    "\n",
    "    // Fill the tree\n",
    "    t4.Fill();\n",
    "\n",
    "    // Clear the event before reloading it\n",
    "    event->Clear();\n",
    "  }\n",
    "\n",
    "  // Write the file header\n",
    "  f.Write();\n",
    "\n",
    "  // Print the tree contents\n",
    "  t4.Print();\n",
    "}"
   ]
  },
  {
   "cell_type": "markdown",
   "metadata": {},
   "source": [
    " A helper function is created: "
   ]
  },
  {
   "cell_type": "code",
   "execution_count": 4,
   "metadata": {
    "collapsed": false
   },
   "outputs": [],
   "source": [
    "%%cpp -d\n",
    "void tree4r()\n",
    "{\n",
    "  // check to see if the event class is in the dictionary\n",
    "  // if it is not load the definition in libEvent.so\n",
    "  if (!TClassTable::GetDict(\"Event\")) {\n",
    "    gSystem->Load(\"$ROOTSYS/test/libEvent\");\n",
    "  }\n",
    "\n",
    "  // read the tree generated with tree4w\n",
    "\n",
    "  //note that we use \"new\" to create the TFile and TTree objects !\n",
    "  //because we want to keep these objects alive when we leave this function.\n",
    "  TFile *f = new TFile(\"tree4.root\");\n",
    "  TTree *t4 = (TTree*)f->Get(\"t4\");\n",
    "\n",
    "  // create a pointer to an event object. This will be used\n",
    "  // to read the branch values.\n",
    "  Event *event = new Event();\n",
    "\n",
    "  // get two branches and set the branch address\n",
    "  TBranch *bntrack = t4->GetBranch(\"fNtrack\");\n",
    "  TBranch *branch  = t4->GetBranch(\"event_split\");\n",
    "  branch->SetAddress(&event);\n",
    "\n",
    "  Long64_t nevent = t4->GetEntries();\n",
    "  Int_t nselected = 0;\n",
    "  Int_t nb = 0;\n",
    "  for (Long64_t i=0;i<nevent;i++) {\n",
    "    //read branch \"fNtrack\"only\n",
    "    bntrack->GetEntry(i);\n",
    "\n",
    "    //reject events with more than 587 tracks\n",
    "    if (event->GetNtrack() > 587)continue;\n",
    "\n",
    "    //read complete accepted event in memory\n",
    "    nb += t4->GetEntry(i);\n",
    "    nselected++;\n",
    "\n",
    "    //print the first accepted event\n",
    "    if (nselected == 1) t4->Show();\n",
    "\n",
    "    //clear tracks array\n",
    "    event->Clear();\n",
    "  }\n",
    "\n",
    "  if (gROOT->IsBatch()) return;\n",
    "  new TBrowser();\n",
    "  t4->StartViewer();\n",
    "}"
   ]
  },
  {
   "cell_type": "code",
   "execution_count": 5,
   "metadata": {
    "collapsed": false
   },
   "outputs": [
    {
     "name": "stderr",
     "output_type": "stream",
     "text": [
      "IncrementalExecutor::executeFunction: symbol '_ZN5Event10SetMeasureEhi' unresolved while linking [cling interface function]!\n",
      "You are probably missing the definition of Event::SetMeasure(unsigned char, int)\n",
      "Maybe you need to load the corresponding shared library?\n",
      "IncrementalExecutor::executeFunction: symbol '_ZN5Event15SetRandomVertexEv' unresolved while linking [cling interface function]!\n",
      "You are probably missing the definition of Event::SetRandomVertex()\n",
      "Maybe you need to load the corresponding shared library?\n",
      "IncrementalExecutor::executeFunction: symbol '_ZN5Event5ResetEPKc' unresolved while linking [cling interface function]!\n",
      "You are probably missing the definition of Event::Reset(char const*)\n",
      "Maybe you need to load the corresponding shared library?\n",
      "IncrementalExecutor::executeFunction: symbol '_ZN5Event8AddTrackEff' unresolved while linking [cling interface function]!\n",
      "You are probably missing the definition of Event::AddTrack(float, float)\n",
      "Maybe you need to load the corresponding shared library?\n",
      "IncrementalExecutor::executeFunction: symbol '_ZN5Event9SetHeaderEiiif' unresolved while linking [cling interface function]!\n",
      "You are probably missing the definition of Event::SetHeader(int, int, int, float)\n",
      "Maybe you need to load the corresponding shared library?\n",
      "IncrementalExecutor::executeFunction: symbol '_ZN5EventC1Ev' unresolved while linking [cling interface function]!\n",
      "You are probably missing the definition of Event::Event()\n",
      "Maybe you need to load the corresponding shared library?\n",
      "IncrementalExecutor::executeFunction: symbol '_ZTI5Event' unresolved while linking [cling interface function]!\n",
      "You are probably missing the definition of typeinfo for Event\n",
      "Maybe you need to load the corresponding shared library?\n"
     ]
    }
   ],
   "source": [
    "Event::Reset(); // Allow for re-run this script by cleaning static variables.\n",
    "tree4w();\n",
    "Event::Reset(); // Allow for re-run this script by cleaning static variables.\n",
    "tree4r();"
   ]
  }
 ],
 "metadata": {
  "kernelspec": {
   "display_name": "ROOT C++",
   "language": "c++",
   "name": "root"
  },
  "language_info": {
   "codemirror_mode": "text/x-c++src",
   "file_extension": ".C",
   "mimetype": " text/x-c++src",
   "name": "c++"
  }
 },
 "nbformat": 4,
 "nbformat_minor": 0
}
