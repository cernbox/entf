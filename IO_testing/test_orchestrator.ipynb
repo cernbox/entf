{
 "cells": [
  {
   "cell_type": "code",
   "execution_count": null,
   "metadata": {
    "collapsed": false
   },
   "outputs": [],
   "source": [
    "import os\n",
    "import random\n",
    "import time\n",
    "\n",
    "from test_write import PlainWrite\n",
    "from test_flush import Flush\n",
    "from test_append import Append\n",
    "\n",
    "\n",
    "SIZES = [1000000, 2000000, 3000000, 5000000, 10000000]\n",
    "TYPES = [\"text\", \"binary\"]\n",
    "INTER_FILE = [0, 0.5, 1, 2, 3, 5]\n",
    "CHUNK_SIZE = [100000, 200000, 300000, 500000]\n",
    "INTER_CHUNK = [0, 0.1, 0.2, 0.3, 0.5, 1]\n",
    "\n",
    "CHECK_DATA = True\n",
    "\n",
    "TEST = 10\n",
    "CYCLE = 60\n",
    "\n",
    "# Print a legend line for metadata\n",
    "print \" \".join([\"file_numer\", \"file_size\", \"file_type\", \"inter_file\", \"chunk_size\", \"inter_chunk\"])\n",
    "\n",
    "# Run the tests forever\n",
    "i=0\n",
    "while (i<1):\n",
    "\n",
    "    # Pick the values you like and print them out\n",
    "    fno = random.choice(range(10))+1          # File number\n",
    "    fsi = random.choice(SIZES)                # File size\n",
    "    fty = random.choice(TYPES)                # File types\n",
    "\n",
    "    ifi = random.choice(INTER_FILE)           # Wait time between write of two files\n",
    "\n",
    "    csi = (random.choice(range(5))+1)*100000  # Chunk size (for flush and append tests)\n",
    "    ich = random.choice(INTER_CHUNK)          # Wait time between write of two chunks (for flush and append tests)\n",
    "\n",
    "    print fno, fsi, fty, ifi, csi, ich\n",
    "\n",
    "    # Do the tests\n",
    "    print \"PlainWrite\"\n",
    "    current_test = PlainWrite(fno, fsi, fty, ifi, True)\n",
    "    current_test.run()\n",
    "    time.sleep(TEST)\n",
    "\n",
    "    print \"Flush\"\n",
    "    current_test = Flush(fno, fsi, fty, csi, ich, ifi, True)\n",
    "    current_test.run()\n",
    "    time.sleep(TEST)\n",
    "\n",
    "    print \"Append\"\n",
    "    current_test = Append(fno, fsi, fty, csi, ich, ifi, True)\n",
    "    current_test.run()\n",
    "    time.sleep(TEST)\n",
    "\n",
    "    time.sleep(CYCLE)\n",
    "\n",
    "    print \"%d\\n\" % i\n",
    "    i += 1"
   ]
  },
  {
   "cell_type": "code",
   "execution_count": null,
   "metadata": {
    "collapsed": true
   },
   "outputs": [],
   "source": []
  }
 ],
 "metadata": {
  "kernelspec": {
   "display_name": "Python 2",
   "language": "python",
   "name": "python2"
  },
  "language_info": {
   "codemirror_mode": {
    "name": "ipython",
    "version": 2
   },
   "file_extension": ".py",
   "mimetype": "text/x-python",
   "name": "python",
   "nbconvert_exporter": "python",
   "pygments_lexer": "ipython2",
   "version": "2.7.10"
  }
 },
 "nbformat": 4,
 "nbformat_minor": 1
}
