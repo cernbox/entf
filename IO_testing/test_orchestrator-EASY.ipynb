{
 "cells": [
  {
   "cell_type": "code",
   "execution_count": null,
   "metadata": {
    "collapsed": false
   },
   "outputs": [],
   "source": [
    "import os\n",
    "import random\n",
    "import time\n",
    "\n",
    "from test_write import PlainWrite\n",
    "from test_flush import Flush\n",
    "from test_append import Append\n",
    "\n",
    "\n",
    "# Print the parameters\n",
    "fno = 3\n",
    "fsi = 1000000\n",
    "fty = \"binary\"\n",
    "ifi = 1\n",
    "chunk_s = 100000\n",
    "chunk_t = 0.2\n",
    "print fno, fsi, fty, ifi, chink_s, chunk_t\n",
    "\n",
    "print \"Plain Write\"\n",
    "# __init__(self, fno, fsize, ftype, itime=0, sanity_check=True, output_folder=CWD, machine_id=None, to_grafana=True):\n",
    "current_test = PlainWrite(fno, fsi, fty, ifi, True, output_folder=\".\", machine_id=\"live-test\", to_grafana=True)\n",
    "current_test.run()\n",
    "time.sleep(5)\n",
    "\n",
    "print \"Flush\"\n",
    "# __init__(self, fno, fsize, ftype, flush_size=4096, flush_time=0, itime=0, sanity_check=False, output_folder=CWD, machine_id=None, to_grafana=True):\n",
    "current_test = Flush(fno, fsi, fty, chunk_s, chunk_t, ifi, sanity_check=True, output_folder=\".\", machine_id=\"live-test\", to_grafana=True)\n",
    "current_test.run()\n",
    "time.sleep(5)\n",
    "\n",
    "print \"Append\"\n",
    "# __init__(self, fno, fsize, ftype, chunk_size=4096, chunk_time=0, itime=0, sanity_check=False, output_folder=CWD, machine_id=None, to_grafana=True):\n",
    "current_test = Append(fno, fsi, fty, chunk_s, chunk_t, ifi, sanity_check=True, output_folder=\".\", machine_id=\"live-test\", to_grafana=True)\n",
    "current_test.run()\n",
    "time.sleep(5)\n"
   ]
  },
  {
   "cell_type": "code",
   "execution_count": null,
   "metadata": {
    "collapsed": true
   },
   "outputs": [],
   "source": []
  }
 ],
 "metadata": {
  "kernelspec": {
   "display_name": "Python 2",
   "language": "python",
   "name": "python2"
  },
  "language_info": {
   "codemirror_mode": {
    "name": "ipython",
    "version": 2
   },
   "file_extension": ".py",
   "mimetype": "text/x-python",
   "name": "python",
   "nbconvert_exporter": "python",
   "pygments_lexer": "ipython2",
   "version": "2.7.10"
  }
 },
 "nbformat": 4,
 "nbformat_minor": 1
}
